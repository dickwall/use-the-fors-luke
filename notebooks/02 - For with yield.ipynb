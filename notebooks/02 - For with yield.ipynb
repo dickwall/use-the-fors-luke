{
 "cells": [
  {
   "cell_type": "code",
   "execution_count": 1,
   "metadata": {
    "collapsed": false
   },
   "outputs": [
    {
     "data": {
      "text/plain": [
       "\u001b[36msquares\u001b[0m: \u001b[32mcollection\u001b[0m.\u001b[32mimmutable\u001b[0m.\u001b[32mIndexedSeq\u001b[0m[\u001b[32mInt\u001b[0m] = \u001b[33mVector\u001b[0m(\u001b[32m1\u001b[0m, \u001b[32m4\u001b[0m, \u001b[32m9\u001b[0m, \u001b[32m16\u001b[0m, \u001b[32m25\u001b[0m, \u001b[32m36\u001b[0m, \u001b[32m49\u001b[0m, \u001b[32m64\u001b[0m, \u001b[32m81\u001b[0m, \u001b[32m100\u001b[0m)"
      ]
     },
     "metadata": {},
     "output_type": "display_data"
    }
   ],
   "source": [
    "val squares = for (i <- 1 to 10) yield (i * i)"
   ]
  },
  {
   "cell_type": "code",
   "execution_count": 2,
   "metadata": {
    "collapsed": false
   },
   "outputs": [
    {
     "data": {
      "text/plain": [
       "\u001b[36msquareMap\u001b[0m: \u001b[32mMap\u001b[0m[\u001b[32mInt\u001b[0m, \u001b[32mInt\u001b[0m] = \u001b[33mMap\u001b[0m(\n",
       "  \u001b[32m5\u001b[0m -> \u001b[32m25\u001b[0m,\n",
       "  \u001b[32m10\u001b[0m -> \u001b[32m100\u001b[0m,\n",
       "  \u001b[32m1\u001b[0m -> \u001b[32m1\u001b[0m,\n",
       "  \u001b[32m6\u001b[0m -> \u001b[32m36\u001b[0m,\n",
       "  \u001b[32m9\u001b[0m -> \u001b[32m81\u001b[0m,\n",
       "  \u001b[32m2\u001b[0m -> \u001b[32m4\u001b[0m,\n",
       "  \u001b[32m7\u001b[0m -> \u001b[32m49\u001b[0m,\n",
       "  \u001b[32m3\u001b[0m -> \u001b[32m9\u001b[0m,\n",
       "  \u001b[32m8\u001b[0m -> \u001b[32m64\u001b[0m,\n",
       "  \u001b[32m4\u001b[0m -> \u001b[32m16\u001b[0m\n",
       ")"
      ]
     },
     "metadata": {},
     "output_type": "display_data"
    }
   ],
   "source": [
    "val squareMap = (for (i <- 1 to 10) yield (i -> (i * i))).toMap"
   ]
  },
  {
   "cell_type": "code",
   "execution_count": 3,
   "metadata": {
    "collapsed": false
   },
   "outputs": [
    {
     "data": {
      "text/plain": [
       "defined \u001b[32mclass \u001b[36mTimesResult\u001b[0m\n",
       "\u001b[36mtimesTable\u001b[0m: \u001b[32mcollection\u001b[0m.\u001b[32mimmutable\u001b[0m.\u001b[32mIndexedSeq\u001b[0m[\u001b[32m$user\u001b[0m.\u001b[32mTimesResult\u001b[0m] = \u001b[33mVector\u001b[0m(\n",
       "  \u001b[33mTimesResult\u001b[0m(\u001b[32m1\u001b[0m, \u001b[32m1\u001b[0m, \u001b[32m1\u001b[0m),\n",
       "  \u001b[33mTimesResult\u001b[0m(\u001b[32m1\u001b[0m, \u001b[32m2\u001b[0m, \u001b[32m2\u001b[0m),\n",
       "  \u001b[33mTimesResult\u001b[0m(\u001b[32m1\u001b[0m, \u001b[32m3\u001b[0m, \u001b[32m3\u001b[0m),\n",
       "  \u001b[33mTimesResult\u001b[0m(\u001b[32m1\u001b[0m, \u001b[32m4\u001b[0m, \u001b[32m4\u001b[0m),\n",
       "  \u001b[33mTimesResult\u001b[0m(\u001b[32m1\u001b[0m, \u001b[32m5\u001b[0m, \u001b[32m5\u001b[0m),\n",
       "  \u001b[33mTimesResult\u001b[0m(\u001b[32m2\u001b[0m, \u001b[32m1\u001b[0m, \u001b[32m2\u001b[0m),\n",
       "  \u001b[33mTimesResult\u001b[0m(\u001b[32m2\u001b[0m, \u001b[32m2\u001b[0m, \u001b[32m4\u001b[0m),\n",
       "  \u001b[33mTimesResult\u001b[0m(\u001b[32m2\u001b[0m, \u001b[32m3\u001b[0m, \u001b[32m6\u001b[0m),\n",
       "  \u001b[33mTimesResult\u001b[0m(\u001b[32m2\u001b[0m, \u001b[32m4\u001b[0m, \u001b[32m8\u001b[0m),\n",
       "  \u001b[33mTimesResult\u001b[0m(\u001b[32m2\u001b[0m, \u001b[32m5\u001b[0m, \u001b[32m10\u001b[0m),\n",
       "  \u001b[33mTimesResult\u001b[0m(\u001b[32m3\u001b[0m, \u001b[32m1\u001b[0m, \u001b[32m3\u001b[0m),\n",
       "  \u001b[33mTimesResult\u001b[0m(\u001b[32m3\u001b[0m, \u001b[32m2\u001b[0m, \u001b[32m6\u001b[0m),\n",
       "  \u001b[33mTimesResult\u001b[0m(\u001b[32m3\u001b[0m, \u001b[32m3\u001b[0m, \u001b[32m9\u001b[0m),\n",
       "  \u001b[33mTimesResult\u001b[0m(\u001b[32m3\u001b[0m, \u001b[32m4\u001b[0m, \u001b[32m12\u001b[0m),\n",
       "  \u001b[33mTimesResult\u001b[0m(\u001b[32m3\u001b[0m, \u001b[32m5\u001b[0m, \u001b[32m15\u001b[0m),\n",
       "  \u001b[33mTimesResult\u001b[0m(\u001b[32m4\u001b[0m, \u001b[32m1\u001b[0m, \u001b[32m4\u001b[0m),\n",
       "  \u001b[33mTimesResult\u001b[0m(\u001b[32m4\u001b[0m, \u001b[32m2\u001b[0m, \u001b[32m8\u001b[0m),\n",
       "  \u001b[33mTimesResult\u001b[0m(\u001b[32m4\u001b[0m, \u001b[32m3\u001b[0m, \u001b[32m12\u001b[0m),\n",
       "  \u001b[33mTimesResult\u001b[0m(\u001b[32m4\u001b[0m, \u001b[32m4\u001b[0m, \u001b[32m16\u001b[0m),\n",
       "\u001b[33m...\u001b[0m"
      ]
     },
     "metadata": {},
     "output_type": "display_data"
    }
   ],
   "source": [
    "case class TimesResult(i: Int, j: Int, mult: Int)\n",
    "\n",
    "val timesTable = for {\n",
    "    i <- 1 to 5\n",
    "    j <- 1 to 5\n",
    "} yield TimesResult(i, j, i * j)"
   ]
  },
  {
   "cell_type": "code",
   "execution_count": 4,
   "metadata": {
    "collapsed": false
   },
   "outputs": [
    {
     "data": {
      "text/plain": [
       "\u001b[36msquares\u001b[0m: \u001b[32mcollection\u001b[0m.\u001b[32mimmutable\u001b[0m.\u001b[32mIndexedSeq\u001b[0m[\u001b[32mInt\u001b[0m] = \u001b[33mVector\u001b[0m(\u001b[32m1\u001b[0m, \u001b[32m4\u001b[0m, \u001b[32m9\u001b[0m, \u001b[32m16\u001b[0m, \u001b[32m25\u001b[0m, \u001b[32m36\u001b[0m, \u001b[32m49\u001b[0m, \u001b[32m64\u001b[0m, \u001b[32m81\u001b[0m, \u001b[32m100\u001b[0m)"
      ]
     },
     "metadata": {},
     "output_type": "display_data"
    }
   ],
   "source": [
    "val squares = (1 to 10).map(i => i * i)"
   ]
  },
  {
   "cell_type": "code",
   "execution_count": null,
   "metadata": {
    "collapsed": false
   },
   "outputs": [],
   "source": [
    "val squaresMap = (1 to 10).map(i => i -> (i * i)).toMap"
   ]
  },
  {
   "cell_type": "code",
   "execution_count": 5,
   "metadata": {
    "collapsed": false
   },
   "outputs": [
    {
     "data": {
      "text/plain": [
       "\u001b[36mtimesTable\u001b[0m: \u001b[32mcollection\u001b[0m.\u001b[32mimmutable\u001b[0m.\u001b[32mIndexedSeq\u001b[0m[\u001b[32mcollection\u001b[0m.\u001b[32mimmutable\u001b[0m.\u001b[32mIndexedSeq\u001b[0m[\u001b[32mTimesResult\u001b[0m]] = \u001b[33mVector\u001b[0m(\n",
       "  \u001b[33mVector\u001b[0m(\n",
       "    \u001b[33mTimesResult\u001b[0m(\u001b[32m1\u001b[0m, \u001b[32m1\u001b[0m, \u001b[32m1\u001b[0m),\n",
       "    \u001b[33mTimesResult\u001b[0m(\u001b[32m1\u001b[0m, \u001b[32m2\u001b[0m, \u001b[32m2\u001b[0m),\n",
       "    \u001b[33mTimesResult\u001b[0m(\u001b[32m1\u001b[0m, \u001b[32m3\u001b[0m, \u001b[32m3\u001b[0m),\n",
       "    \u001b[33mTimesResult\u001b[0m(\u001b[32m1\u001b[0m, \u001b[32m4\u001b[0m, \u001b[32m4\u001b[0m),\n",
       "    \u001b[33mTimesResult\u001b[0m(\u001b[32m1\u001b[0m, \u001b[32m5\u001b[0m, \u001b[32m5\u001b[0m)\n",
       "  ),\n",
       "  \u001b[33mVector\u001b[0m(\n",
       "    \u001b[33mTimesResult\u001b[0m(\u001b[32m2\u001b[0m, \u001b[32m1\u001b[0m, \u001b[32m2\u001b[0m),\n",
       "    \u001b[33mTimesResult\u001b[0m(\u001b[32m2\u001b[0m, \u001b[32m2\u001b[0m, \u001b[32m4\u001b[0m),\n",
       "    \u001b[33mTimesResult\u001b[0m(\u001b[32m2\u001b[0m, \u001b[32m3\u001b[0m, \u001b[32m6\u001b[0m),\n",
       "    \u001b[33mTimesResult\u001b[0m(\u001b[32m2\u001b[0m, \u001b[32m4\u001b[0m, \u001b[32m8\u001b[0m),\n",
       "    \u001b[33mTimesResult\u001b[0m(\u001b[32m2\u001b[0m, \u001b[32m5\u001b[0m, \u001b[32m10\u001b[0m)\n",
       "  ),\n",
       "  \u001b[33mVector\u001b[0m(\n",
       "    \u001b[33mTimesResult\u001b[0m(\u001b[32m3\u001b[0m, \u001b[32m1\u001b[0m, \u001b[32m3\u001b[0m),\n",
       "    \u001b[33mTimesResult\u001b[0m(\u001b[32m3\u001b[0m, \u001b[32m2\u001b[0m, \u001b[32m6\u001b[0m),\n",
       "    \u001b[33mTimesResult\u001b[0m(\u001b[32m3\u001b[0m, \u001b[32m3\u001b[0m, \u001b[32m9\u001b[0m),\n",
       "    \u001b[33mTimesResult\u001b[0m(\u001b[32m3\u001b[0m, \u001b[32m4\u001b[0m, \u001b[32m12\u001b[0m),\n",
       "\u001b[33m...\u001b[0m"
      ]
     },
     "metadata": {},
     "output_type": "display_data"
    }
   ],
   "source": [
    "val timesTable = (1 to 5).map(i => (1 to 5).map (j => TimesResult(i, j, i * j)))"
   ]
  },
  {
   "cell_type": "code",
   "execution_count": 6,
   "metadata": {
    "collapsed": false
   },
   "outputs": [
    {
     "data": {
      "text/plain": [
       "\u001b[36mres5\u001b[0m: \u001b[32mcollection\u001b[0m.\u001b[32mimmutable\u001b[0m.\u001b[32mIndexedSeq\u001b[0m[\u001b[32mTimesResult\u001b[0m] = \u001b[33mVector\u001b[0m(\n",
       "  \u001b[33mTimesResult\u001b[0m(\u001b[32m1\u001b[0m, \u001b[32m1\u001b[0m, \u001b[32m1\u001b[0m),\n",
       "  \u001b[33mTimesResult\u001b[0m(\u001b[32m1\u001b[0m, \u001b[32m2\u001b[0m, \u001b[32m2\u001b[0m),\n",
       "  \u001b[33mTimesResult\u001b[0m(\u001b[32m1\u001b[0m, \u001b[32m3\u001b[0m, \u001b[32m3\u001b[0m),\n",
       "  \u001b[33mTimesResult\u001b[0m(\u001b[32m1\u001b[0m, \u001b[32m4\u001b[0m, \u001b[32m4\u001b[0m),\n",
       "  \u001b[33mTimesResult\u001b[0m(\u001b[32m1\u001b[0m, \u001b[32m5\u001b[0m, \u001b[32m5\u001b[0m),\n",
       "  \u001b[33mTimesResult\u001b[0m(\u001b[32m2\u001b[0m, \u001b[32m1\u001b[0m, \u001b[32m2\u001b[0m),\n",
       "  \u001b[33mTimesResult\u001b[0m(\u001b[32m2\u001b[0m, \u001b[32m2\u001b[0m, \u001b[32m4\u001b[0m),\n",
       "  \u001b[33mTimesResult\u001b[0m(\u001b[32m2\u001b[0m, \u001b[32m3\u001b[0m, \u001b[32m6\u001b[0m),\n",
       "  \u001b[33mTimesResult\u001b[0m(\u001b[32m2\u001b[0m, \u001b[32m4\u001b[0m, \u001b[32m8\u001b[0m),\n",
       "  \u001b[33mTimesResult\u001b[0m(\u001b[32m2\u001b[0m, \u001b[32m5\u001b[0m, \u001b[32m10\u001b[0m),\n",
       "  \u001b[33mTimesResult\u001b[0m(\u001b[32m3\u001b[0m, \u001b[32m1\u001b[0m, \u001b[32m3\u001b[0m),\n",
       "  \u001b[33mTimesResult\u001b[0m(\u001b[32m3\u001b[0m, \u001b[32m2\u001b[0m, \u001b[32m6\u001b[0m),\n",
       "  \u001b[33mTimesResult\u001b[0m(\u001b[32m3\u001b[0m, \u001b[32m3\u001b[0m, \u001b[32m9\u001b[0m),\n",
       "  \u001b[33mTimesResult\u001b[0m(\u001b[32m3\u001b[0m, \u001b[32m4\u001b[0m, \u001b[32m12\u001b[0m),\n",
       "  \u001b[33mTimesResult\u001b[0m(\u001b[32m3\u001b[0m, \u001b[32m5\u001b[0m, \u001b[32m15\u001b[0m),\n",
       "  \u001b[33mTimesResult\u001b[0m(\u001b[32m4\u001b[0m, \u001b[32m1\u001b[0m, \u001b[32m4\u001b[0m),\n",
       "  \u001b[33mTimesResult\u001b[0m(\u001b[32m4\u001b[0m, \u001b[32m2\u001b[0m, \u001b[32m8\u001b[0m),\n",
       "  \u001b[33mTimesResult\u001b[0m(\u001b[32m4\u001b[0m, \u001b[32m3\u001b[0m, \u001b[32m12\u001b[0m),\n",
       "  \u001b[33mTimesResult\u001b[0m(\u001b[32m4\u001b[0m, \u001b[32m4\u001b[0m, \u001b[32m16\u001b[0m),\n",
       "\u001b[33m...\u001b[0m"
      ]
     },
     "metadata": {},
     "output_type": "display_data"
    }
   ],
   "source": [
    "timesTable.flatten"
   ]
  },
  {
   "cell_type": "code",
   "execution_count": 7,
   "metadata": {
    "collapsed": false
   },
   "outputs": [
    {
     "data": {
      "text/plain": [
       "\u001b[36mtimesTableFlat\u001b[0m: \u001b[32mcollection\u001b[0m.\u001b[32mimmutable\u001b[0m.\u001b[32mIndexedSeq\u001b[0m[\u001b[32mTimesResult\u001b[0m] = \u001b[33mVector\u001b[0m(\n",
       "  \u001b[33mTimesResult\u001b[0m(\u001b[32m1\u001b[0m, \u001b[32m1\u001b[0m, \u001b[32m1\u001b[0m),\n",
       "  \u001b[33mTimesResult\u001b[0m(\u001b[32m1\u001b[0m, \u001b[32m2\u001b[0m, \u001b[32m2\u001b[0m),\n",
       "  \u001b[33mTimesResult\u001b[0m(\u001b[32m1\u001b[0m, \u001b[32m3\u001b[0m, \u001b[32m3\u001b[0m),\n",
       "  \u001b[33mTimesResult\u001b[0m(\u001b[32m1\u001b[0m, \u001b[32m4\u001b[0m, \u001b[32m4\u001b[0m),\n",
       "  \u001b[33mTimesResult\u001b[0m(\u001b[32m1\u001b[0m, \u001b[32m5\u001b[0m, \u001b[32m5\u001b[0m),\n",
       "  \u001b[33mTimesResult\u001b[0m(\u001b[32m2\u001b[0m, \u001b[32m1\u001b[0m, \u001b[32m2\u001b[0m),\n",
       "  \u001b[33mTimesResult\u001b[0m(\u001b[32m2\u001b[0m, \u001b[32m2\u001b[0m, \u001b[32m4\u001b[0m),\n",
       "  \u001b[33mTimesResult\u001b[0m(\u001b[32m2\u001b[0m, \u001b[32m3\u001b[0m, \u001b[32m6\u001b[0m),\n",
       "  \u001b[33mTimesResult\u001b[0m(\u001b[32m2\u001b[0m, \u001b[32m4\u001b[0m, \u001b[32m8\u001b[0m),\n",
       "  \u001b[33mTimesResult\u001b[0m(\u001b[32m2\u001b[0m, \u001b[32m5\u001b[0m, \u001b[32m10\u001b[0m),\n",
       "  \u001b[33mTimesResult\u001b[0m(\u001b[32m3\u001b[0m, \u001b[32m1\u001b[0m, \u001b[32m3\u001b[0m),\n",
       "  \u001b[33mTimesResult\u001b[0m(\u001b[32m3\u001b[0m, \u001b[32m2\u001b[0m, \u001b[32m6\u001b[0m),\n",
       "  \u001b[33mTimesResult\u001b[0m(\u001b[32m3\u001b[0m, \u001b[32m3\u001b[0m, \u001b[32m9\u001b[0m),\n",
       "  \u001b[33mTimesResult\u001b[0m(\u001b[32m3\u001b[0m, \u001b[32m4\u001b[0m, \u001b[32m12\u001b[0m),\n",
       "  \u001b[33mTimesResult\u001b[0m(\u001b[32m3\u001b[0m, \u001b[32m5\u001b[0m, \u001b[32m15\u001b[0m),\n",
       "  \u001b[33mTimesResult\u001b[0m(\u001b[32m4\u001b[0m, \u001b[32m1\u001b[0m, \u001b[32m4\u001b[0m),\n",
       "  \u001b[33mTimesResult\u001b[0m(\u001b[32m4\u001b[0m, \u001b[32m2\u001b[0m, \u001b[32m8\u001b[0m),\n",
       "  \u001b[33mTimesResult\u001b[0m(\u001b[32m4\u001b[0m, \u001b[32m3\u001b[0m, \u001b[32m12\u001b[0m),\n",
       "  \u001b[33mTimesResult\u001b[0m(\u001b[32m4\u001b[0m, \u001b[32m4\u001b[0m, \u001b[32m16\u001b[0m),\n",
       "\u001b[33m...\u001b[0m"
      ]
     },
     "metadata": {},
     "output_type": "display_data"
    }
   ],
   "source": [
    "val timesTableFlat = (1 to 5).flatMap(i => (1 to 5).map(j => TimesResult(i, j, i*j)))"
   ]
  },
  {
   "cell_type": "code",
   "execution_count": null,
   "metadata": {
    "collapsed": false
   },
   "outputs": [],
   "source": [
    "val timesTable = for {\n",
    "    i <- 1 to 5 // flatMap\n",
    "    j <- 1 to 5 // map\n",
    "} yield TimesResult(i, j, i * j)"
   ]
  },
  {
   "cell_type": "code",
   "execution_count": null,
   "metadata": {
    "collapsed": false
   },
   "outputs": [],
   "source": [
    "for {\n",
    "    i <- 1 to 3 // flatMap\n",
    "    j <- 1 to 3 // flatMap\n",
    "    k <- 1 to 3 // map\n",
    "} yield i*j*k"
   ]
  },
  {
   "cell_type": "code",
   "execution_count": null,
   "metadata": {
    "collapsed": true
   },
   "outputs": [],
   "source": []
  }
 ],
 "metadata": {
  "kernelspec": {
   "display_name": "Scala 2.11",
   "language": "scala211",
   "name": "scala211"
  },
  "language_info": {
   "codemirror_mode": "text/x-scala",
   "file_extension": ".scala",
   "mimetype": "text/x-scala",
   "name": "scala211",
   "pygments_lexer": "scala",
   "version": "2.11.8"
  }
 },
 "nbformat": 4,
 "nbformat_minor": 0
}
