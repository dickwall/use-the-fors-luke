{
 "cells": [
  {
   "cell_type": "code",
   "execution_count": 2,
   "metadata": {
    "collapsed": false
   },
   "outputs": [
    {
     "data": {
      "text/plain": [
       "\u001b[32mimport \u001b[36mscala.concurrent._\u001b[0m\n",
       "\u001b[32mimport \u001b[36mExecutionContext.Implicits.global\u001b[0m\n",
       "\u001b[32mimport \u001b[36mduration._\u001b[0m"
      ]
     },
     "metadata": {},
     "output_type": "display_data"
    }
   ],
   "source": [
    "import scala.concurrent._\n",
    "import ExecutionContext.Implicits.global\n",
    "import duration._"
   ]
  },
  {
   "cell_type": "code",
   "execution_count": null,
   "metadata": {
    "collapsed": true
   },
   "outputs": [],
   "source": []
  },
  {
   "cell_type": "code",
   "execution_count": null,
   "metadata": {
    "collapsed": true
   },
   "outputs": [],
   "source": []
  },
  {
   "cell_type": "code",
   "execution_count": 3,
   "metadata": {
    "collapsed": false
   },
   "outputs": [
    {
     "data": {
      "text/plain": [
       "\u001b[36mf1\u001b[0m: \u001b[32mFuture\u001b[0m[\u001b[32mInt\u001b[0m] = List(scala.concurrent.impl.CallbackRunnable@5e5167e0)\n",
       "\u001b[36mf2\u001b[0m: \u001b[32mFuture\u001b[0m[\u001b[32mInt\u001b[0m] = List()\n",
       "\u001b[36mf3\u001b[0m: \u001b[32mFuture\u001b[0m[\u001b[32mInt\u001b[0m] = List()\n",
       "\u001b[36mres2_3\u001b[0m: \u001b[32mOption\u001b[0m[\u001b[32mscala\u001b[0m.\u001b[32mutil\u001b[0m.\u001b[32mTry\u001b[0m[\u001b[32mInt\u001b[0m]] = None"
      ]
     },
     "metadata": {},
     "output_type": "display_data"
    }
   ],
   "source": [
    "val f1 = Future { Thread.sleep(10000); 6 }\n",
    "val f2 = Future { Thread.sleep(10000); 7 }\n",
    "\n",
    "val f3 = for {\n",
    "    x <- f1\n",
    "    y <- f2\n",
    "} yield x * y\n",
    "\n",
    "f3.value\n"
   ]
  },
  {
   "cell_type": "code",
   "execution_count": 4,
   "metadata": {
    "collapsed": false
   },
   "outputs": [
    {
     "data": {
      "text/plain": [
       "\u001b[36mres3\u001b[0m: \u001b[32mInt\u001b[0m = \u001b[32m42\u001b[0m"
      ]
     },
     "metadata": {},
     "output_type": "display_data"
    }
   ],
   "source": [
    "Await.result(f3, 11.seconds)"
   ]
  },
  {
   "cell_type": "code",
   "execution_count": null,
   "metadata": {
    "collapsed": false
   },
   "outputs": [],
   "source": [
    "val f1 = Future { Thread.sleep(1000); 6 }\n",
    "val f2 = Future { Thread.sleep(1000); 7 / 0 }\n",
    "\n",
    "val f3 = for {\n",
    "    x <- f1\n",
    "    y <- f2\n",
    "} yield x * y\n",
    "\n",
    "f3.value"
   ]
  },
  {
   "cell_type": "code",
   "execution_count": null,
   "metadata": {
    "collapsed": false
   },
   "outputs": [],
   "source": [
    "Await.result(f3, 2.seconds)"
   ]
  },
  {
   "cell_type": "code",
   "execution_count": null,
   "metadata": {
    "collapsed": true
   },
   "outputs": [],
   "source": []
  }
 ],
 "metadata": {
  "kernelspec": {
   "display_name": "Scala 2.11",
   "language": "scala211",
   "name": "scala211"
  },
  "language_info": {
   "codemirror_mode": "text/x-scala",
   "file_extension": ".scala",
   "mimetype": "text/x-scala",
   "name": "scala211",
   "pygments_lexer": "scala",
   "version": "2.11.8"
  }
 },
 "nbformat": 4,
 "nbformat_minor": 0
}
