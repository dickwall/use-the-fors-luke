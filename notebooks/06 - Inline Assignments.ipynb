{
 "cells": [
  {
   "cell_type": "code",
   "execution_count": 1,
   "metadata": {
    "collapsed": false
   },
   "outputs": [
    {
     "data": {
      "text/plain": [
       "\u001b[36mres0\u001b[0m: \u001b[32mcollection\u001b[0m.\u001b[32mimmutable\u001b[0m.\u001b[32mIndexedSeq\u001b[0m[\u001b[32mInt\u001b[0m] = \u001b[33mVector\u001b[0m(\n",
       "  \u001b[32m6\u001b[0m,\n",
       "  \u001b[32m12\u001b[0m,\n",
       "  \u001b[32m18\u001b[0m,\n",
       "  \u001b[32m24\u001b[0m,\n",
       "  \u001b[32m30\u001b[0m,\n",
       "  \u001b[32m6\u001b[0m,\n",
       "  \u001b[32m12\u001b[0m,\n",
       "  \u001b[32m18\u001b[0m,\n",
       "  \u001b[32m24\u001b[0m,\n",
       "  \u001b[32m30\u001b[0m,\n",
       "  \u001b[32m36\u001b[0m,\n",
       "  \u001b[32m42\u001b[0m,\n",
       "  \u001b[32m48\u001b[0m,\n",
       "  \u001b[32m54\u001b[0m,\n",
       "  \u001b[32m60\u001b[0m,\n",
       "  \u001b[32m18\u001b[0m,\n",
       "  \u001b[32m36\u001b[0m,\n",
       "  \u001b[32m54\u001b[0m,\n",
       "  \u001b[32m72\u001b[0m,\n",
       "\u001b[33m...\u001b[0m"
      ]
     },
     "metadata": {},
     "output_type": "display_data"
    }
   ],
   "source": [
    "for {\n",
    "    i <- 1 to 10\n",
    "    j <- 1 to 10\n",
    "    if i % 3 == 0 || j % 3 == 0\n",
    "    k <- 1 to 10\n",
    "    if i * j * k % 2 == 0\n",
    "} yield i * j * k  // why repeat this?"
   ]
  },
  {
   "cell_type": "code",
   "execution_count": 2,
   "metadata": {
    "collapsed": false
   },
   "outputs": [
    {
     "data": {
      "text/plain": [
       "\u001b[36mres1\u001b[0m: \u001b[32mcollection\u001b[0m.\u001b[32mimmutable\u001b[0m.\u001b[32mIndexedSeq\u001b[0m[\u001b[32mInt\u001b[0m] = \u001b[33mVector\u001b[0m(\n",
       "  \u001b[32m6\u001b[0m,\n",
       "  \u001b[32m12\u001b[0m,\n",
       "  \u001b[32m18\u001b[0m,\n",
       "  \u001b[32m24\u001b[0m,\n",
       "  \u001b[32m30\u001b[0m,\n",
       "  \u001b[32m6\u001b[0m,\n",
       "  \u001b[32m12\u001b[0m,\n",
       "  \u001b[32m18\u001b[0m,\n",
       "  \u001b[32m24\u001b[0m,\n",
       "  \u001b[32m30\u001b[0m,\n",
       "  \u001b[32m36\u001b[0m,\n",
       "  \u001b[32m42\u001b[0m,\n",
       "  \u001b[32m48\u001b[0m,\n",
       "  \u001b[32m54\u001b[0m,\n",
       "  \u001b[32m60\u001b[0m,\n",
       "  \u001b[32m18\u001b[0m,\n",
       "  \u001b[32m36\u001b[0m,\n",
       "  \u001b[32m54\u001b[0m,\n",
       "  \u001b[32m72\u001b[0m,\n",
       "\u001b[33m...\u001b[0m"
      ]
     },
     "metadata": {},
     "output_type": "display_data"
    }
   ],
   "source": [
    "for {\n",
    "    i <- 1 to 10\n",
    "    j <- 1 to 10\n",
    "    if i % 3 == 0 || j % 3 == 0\n",
    "    \n",
    "    k <- 1 to 10\n",
    "    \n",
    "    mult = i * j * k\n",
    "    if mult % 2 == 0\n",
    "} yield mult"
   ]
  },
  {
   "cell_type": "code",
   "execution_count": null,
   "metadata": {
    "collapsed": false
   },
   "outputs": [],
   "source": [
    "(1 to 10).flatMap { i =>\n",
    "  (1 to 10).withFilter(j => i % 3 == 0 || j % 3 == 0).flatMap { j =>\n",
    "    (1 to 10).map { k => \n",
    "      val mult = i * j * k\n",
    "     (k, mult)                 \n",
    "    }.withFilter { \n",
    "      case (k, mult) => mult % 2 == 0 \n",
    "    }.map { \n",
    "      case(k, mult) => mult\n",
    "    }\n",
    "  }\n",
    "}"
   ]
  },
  {
   "cell_type": "code",
   "execution_count": 3,
   "metadata": {
    "collapsed": false
   },
   "outputs": [
    {
     "name": "stdout",
     "output_type": "stream",
     "text": [
      "i is 1\n",
      "i is 2\n",
      "i is 3\n",
      "i is 4\n",
      "i is 5\n"
     ]
    },
    {
     "data": {
      "text/plain": [
       "\u001b[36mmults\u001b[0m: \u001b[32mcollection\u001b[0m.\u001b[32mimmutable\u001b[0m.\u001b[32mIndexedSeq\u001b[0m[\u001b[32mInt\u001b[0m] = \u001b[33mVector\u001b[0m(\n",
       "  \u001b[32m1\u001b[0m,\n",
       "  \u001b[32m2\u001b[0m,\n",
       "  \u001b[32m3\u001b[0m,\n",
       "  \u001b[32m4\u001b[0m,\n",
       "  \u001b[32m5\u001b[0m,\n",
       "  \u001b[32m2\u001b[0m,\n",
       "  \u001b[32m4\u001b[0m,\n",
       "  \u001b[32m6\u001b[0m,\n",
       "  \u001b[32m8\u001b[0m,\n",
       "  \u001b[32m10\u001b[0m,\n",
       "  \u001b[32m3\u001b[0m,\n",
       "  \u001b[32m6\u001b[0m,\n",
       "  \u001b[32m9\u001b[0m,\n",
       "  \u001b[32m12\u001b[0m,\n",
       "  \u001b[32m15\u001b[0m,\n",
       "  \u001b[32m4\u001b[0m,\n",
       "  \u001b[32m8\u001b[0m,\n",
       "  \u001b[32m12\u001b[0m,\n",
       "  \u001b[32m16\u001b[0m,\n",
       "\u001b[33m...\u001b[0m"
      ]
     },
     "metadata": {},
     "output_type": "display_data"
    }
   ],
   "source": [
    "// what else can we do with assiGnments?\n",
    "\n",
    "val mults = for {\n",
    "    i <- 1 to 5\n",
    "    _ = println(s\"i is $i\")   // or logger.info(s\"$i\") - SIDE EFFECTS!\n",
    "    j <- 1 to 5\n",
    "} yield i * j"
   ]
  },
  {
   "cell_type": "code",
   "execution_count": null,
   "metadata": {
    "collapsed": true
   },
   "outputs": [],
   "source": []
  }
 ],
 "metadata": {
  "kernelspec": {
   "display_name": "Scala 2.11",
   "language": "scala211",
   "name": "scala211"
  },
  "language_info": {
   "codemirror_mode": "text/x-scala",
   "file_extension": ".scala",
   "mimetype": "text/x-scala",
   "name": "scala211",
   "pygments_lexer": "scala",
   "version": "2.11.8"
  }
 },
 "nbformat": 4,
 "nbformat_minor": 0
}
