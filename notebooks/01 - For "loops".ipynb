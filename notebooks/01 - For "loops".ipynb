{
 "cells": [
  {
   "cell_type": "code",
   "execution_count": 1,
   "metadata": {
    "collapsed": false
   },
   "outputs": [
    {
     "name": "stdout",
     "output_type": "stream",
     "text": [
      "hello world\n",
      "hello world\n",
      "hello world\n",
      "hello world\n",
      "hello world\n",
      "hello world\n",
      "hello world\n",
      "hello world\n",
      "hello world\n",
      "hello world\n"
     ]
    },
    {
     "data": {
      "text/plain": []
     },
     "metadata": {},
     "output_type": "display_data"
    }
   ],
   "source": [
    "for (i <- 1 to 10) println(\"hello world\")"
   ]
  },
  {
   "cell_type": "code",
   "execution_count": 2,
   "metadata": {
    "collapsed": false
   },
   "outputs": [
    {
     "name": "stdout",
     "output_type": "stream",
     "text": [
      "1\n",
      "4\n",
      "9\n",
      "16\n",
      "25\n",
      "36\n",
      "49\n",
      "64\n",
      "81\n",
      "100\n"
     ]
    },
    {
     "data": {
      "text/plain": []
     },
     "metadata": {},
     "output_type": "display_data"
    }
   ],
   "source": [
    "for (i <- 1 to 10) println(i * i)"
   ]
  },
  {
   "cell_type": "code",
   "execution_count": 3,
   "metadata": {
    "collapsed": false
   },
   "outputs": [
    {
     "name": "stdout",
     "output_type": "stream",
     "text": [
      "hello world\n",
      "hello world\n",
      "hello world\n",
      "hello world\n",
      "hello world\n",
      "hello world\n",
      "hello world\n",
      "hello world\n",
      "hello world\n",
      "hello world\n"
     ]
    },
    {
     "data": {
      "text/plain": []
     },
     "metadata": {},
     "output_type": "display_data"
    }
   ],
   "source": [
    "for (_ <- 1 to 10) println(\"hello world\")"
   ]
  },
  {
   "cell_type": "code",
   "execution_count": 4,
   "metadata": {
    "collapsed": false
   },
   "outputs": [
    {
     "name": "stdout",
     "output_type": "stream",
     "text": [
      "the square of  1 is   1\n",
      "the square of  2 is   4\n",
      "the square of  3 is   9\n",
      "the square of  4 is  16\n",
      "the square of  5 is  25\n",
      "the square of  6 is  36\n",
      "the square of  7 is  49\n",
      "the square of  8 is  64\n",
      "the square of  9 is  81\n",
      "the square of 10 is 100\n"
     ]
    },
    {
     "data": {
      "text/plain": []
     },
     "metadata": {},
     "output_type": "display_data"
    }
   ],
   "source": [
    "for (i <- 1 to 10) {\n",
    "    print (f\"the square of $i%2d\")\n",
    "    println(f\" is ${i*i}%3d\")\n",
    "}"
   ]
  },
  {
   "cell_type": "code",
   "execution_count": 5,
   "metadata": {
    "collapsed": false
   },
   "outputs": [
    {
     "data": {
      "text/plain": [
       "\u001b[36mres4\u001b[0m: \u001b[32mcollection\u001b[0m.\u001b[32mimmutable\u001b[0m.\u001b[32mRange\u001b[0m.\u001b[32mInclusive\u001b[0m = \u001b[33mRange\u001b[0m(\u001b[32m1\u001b[0m, \u001b[32m2\u001b[0m, \u001b[32m3\u001b[0m, \u001b[32m4\u001b[0m, \u001b[32m5\u001b[0m, \u001b[32m6\u001b[0m, \u001b[32m7\u001b[0m, \u001b[32m8\u001b[0m, \u001b[32m9\u001b[0m, \u001b[32m10\u001b[0m)"
      ]
     },
     "metadata": {},
     "output_type": "display_data"
    }
   ],
   "source": [
    "(1 to 10)"
   ]
  },
  {
   "cell_type": "code",
   "execution_count": null,
   "metadata": {
    "collapsed": false
   },
   "outputs": [],
   "source": [
    "(1 to 10).foreach { i =>\n",
    "    print (f\"the square of $i%2d\")\n",
    "    println(f\" is ${i*i}%3d\")\n",
    "}"
   ]
  },
  {
   "cell_type": "code",
   "execution_count": 6,
   "metadata": {
    "collapsed": false
   },
   "outputs": [
    {
     "name": "stdout",
     "output_type": "stream",
     "text": [
      "1 times 1 is 1\n",
      "1 times 2 is 2\n",
      "1 times 3 is 3\n",
      "1 times 4 is 4\n",
      "1 times 5 is 5\n",
      "2 times 1 is 2\n",
      "2 times 2 is 4\n",
      "2 times 3 is 6\n",
      "2 times 4 is 8\n",
      "2 times 5 is 10\n",
      "3 times 1 is 3\n",
      "3 times 2 is 6\n",
      "3 times 3 is 9\n",
      "3 times 4 is 12\n",
      "3 times 5 is 15\n",
      "4 times 1 is 4\n",
      "4 times 2 is 8\n",
      "4 times 3 is 12\n",
      "4 times 4 is 16\n",
      "4 times 5 is 20\n",
      "5 times 1 is 5\n",
      "5 times 2 is 10\n",
      "5 times 3 is 15\n",
      "5 times 4 is 20\n",
      "5 times 5 is 25\n"
     ]
    },
    {
     "data": {
      "text/plain": []
     },
     "metadata": {},
     "output_type": "display_data"
    }
   ],
   "source": [
    "for {\n",
    "    i <- 1 to 5\n",
    "    j <- 1 to 5\n",
    "} println(s\"$i times $j is ${i*j}\")"
   ]
  },
  {
   "cell_type": "code",
   "execution_count": 7,
   "metadata": {
    "collapsed": false
   },
   "outputs": [
    {
     "name": "stdout",
     "output_type": "stream",
     "text": [
      "1 times 1 is 1\n",
      "1 times 2 is 2\n",
      "1 times 3 is 3\n",
      "1 times 4 is 4\n",
      "1 times 5 is 5\n",
      "2 times 1 is 2\n",
      "2 times 2 is 4\n",
      "2 times 3 is 6\n",
      "2 times 4 is 8\n",
      "2 times 5 is 10\n",
      "3 times 1 is 3\n",
      "3 times 2 is 6\n",
      "3 times 3 is 9\n",
      "3 times 4 is 12\n",
      "3 times 5 is 15\n",
      "4 times 1 is 4\n",
      "4 times 2 is 8\n",
      "4 times 3 is 12\n",
      "4 times 4 is 16\n",
      "4 times 5 is 20\n",
      "5 times 1 is 5\n",
      "5 times 2 is 10\n",
      "5 times 3 is 15\n",
      "5 times 4 is 20\n",
      "5 times 5 is 25\n"
     ]
    },
    {
     "data": {
      "text/plain": []
     },
     "metadata": {},
     "output_type": "display_data"
    }
   ],
   "source": [
    "(1 to 5).foreach { i =>\n",
    "  (1 to 5).foreach { j =>\n",
    "    println(s\"$i times $j is ${i*j}\")\n",
    "  }\n",
    "}"
   ]
  },
  {
   "cell_type": "code",
   "execution_count": 8,
   "metadata": {
    "collapsed": false
   },
   "outputs": [
    {
     "name": "stdout",
     "output_type": "stream",
     "text": [
      "1 times 1 is 1\n",
      "1 times 2 is 2\n",
      "1 times 3 is 3\n",
      "1 times 4 is 4\n",
      "1 times 5 is 5\n",
      "2 times 1 is 2\n",
      "2 times 2 is 4\n",
      "2 times 3 is 6\n",
      "2 times 4 is 8\n",
      "2 times 5 is 10\n",
      "3 times 1 is 3\n",
      "3 times 2 is 6\n",
      "3 times 3 is 9\n",
      "3 times 4 is 12\n",
      "3 times 5 is 15\n",
      "4 times 1 is 4\n",
      "4 times 2 is 8\n",
      "4 times 3 is 12\n",
      "4 times 4 is 16\n",
      "4 times 5 is 20\n",
      "5 times 1 is 5\n",
      "5 times 2 is 10\n",
      "5 times 3 is 15\n",
      "5 times 4 is 20\n",
      "5 times 5 is 25\n",
      "1 times 1 is 1\n",
      "1 times 2 is 2\n",
      "1 times 3 is 3\n",
      "1 times 4 is 4\n",
      "1 times 5 is 5\n",
      "2 times 1 is 2\n",
      "2 times 2 is 4\n",
      "2 times 3 is 6\n",
      "2 times 4 is 8\n",
      "2 times 5 is 10\n",
      "3 times 1 is 3\n",
      "3 times 2 is 6\n",
      "3 times 3 is 9\n",
      "3 times 4 is 12\n",
      "3 times 5 is 15\n",
      "4 times 1 is 4\n",
      "4 times 2 is 8\n",
      "4 times 3 is 12\n",
      "4 times 4 is 16\n",
      "4 times 5 is 20\n",
      "5 times 1 is 5\n",
      "5 times 2 is 10\n",
      "5 times 3 is 15\n",
      "5 times 4 is 20\n",
      "5 times 5 is 25\n",
      "()\n",
      "()\n"
     ]
    },
    {
     "data": {
      "text/plain": [
       "\u001b[32mimport \u001b[36mscala.reflect.runtime.universe._\u001b[0m\n",
       "defined \u001b[32mfunction \u001b[36mtypeOf\u001b[0m\n",
       "\u001b[36mres7_6\u001b[0m: \u001b[32mreflect\u001b[0m.\u001b[32mruntime\u001b[0m.\u001b[32mpackage\u001b[0m.\u001b[32muniverse\u001b[0m.\u001b[32mTypeTag\u001b[0m[\u001b[32mUnit\u001b[0m] = TypeTag[Unit]\n",
       "\u001b[36mres7_7\u001b[0m: \u001b[32mreflect\u001b[0m.\u001b[32mruntime\u001b[0m.\u001b[32mpackage\u001b[0m.\u001b[32muniverse\u001b[0m.\u001b[32mTypeTag\u001b[0m[\u001b[32mUnit\u001b[0m] = TypeTag[Unit]"
      ]
     },
     "metadata": {},
     "output_type": "display_data"
    }
   ],
   "source": [
    "val x1 = (1 to 5).foreach { i =>\n",
    "  (1 to 5).foreach { j =>\n",
    "    println(s\"$i times $j is ${i*j}\")\n",
    "  }\n",
    "}\n",
    "\n",
    "val x2 = for {\n",
    "    i <- 1 to 5\n",
    "    j <- 1 to 5\n",
    "} println(s\"$i times $j is ${i*j}\")\n",
    "\n",
    "println(x1)\n",
    "println(x2)\n",
    "\n",
    "import scala.reflect.runtime.universe._\n",
    "def typeOf[T: TypeTag](t: T) = typeTag[T]\n",
    "\n",
    "typeOf(x1)\n",
    "typeOf(x2)"
   ]
  },
  {
   "cell_type": "code",
   "execution_count": null,
   "metadata": {
    "collapsed": true
   },
   "outputs": [],
   "source": []
  }
 ],
 "metadata": {
  "kernelspec": {
   "display_name": "Scala 2.11",
   "language": "scala211",
   "name": "scala211"
  },
  "language_info": {
   "codemirror_mode": "text/x-scala",
   "file_extension": ".scala",
   "mimetype": "text/x-scala",
   "name": "scala211",
   "pygments_lexer": "scala",
   "version": "2.11.8"
  }
 },
 "nbformat": 4,
 "nbformat_minor": 0
}
