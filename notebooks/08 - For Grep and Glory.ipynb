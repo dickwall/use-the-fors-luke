{
 "cells": [
  {
   "cell_type": "code",
   "execution_count": null,
   "metadata": {
    "collapsed": false
   },
   "outputs": [],
   "source": [
    "val filesHere = (new java.io.File(\".\")).listFiles\n",
    "for (file <- filesHere if file.getName.endsWith(\".ipynb\"))\n",
    "    println(file)"
   ]
  },
  {
   "cell_type": "code",
   "execution_count": null,
   "metadata": {
    "collapsed": false
   },
   "outputs": [],
   "source": [
    "def fileLines(file: java.io.File) =\n",
    "    scala.io.Source.fromFile(file).getLines.toList"
   ]
  },
  {
   "cell_type": "code",
   "execution_count": null,
   "metadata": {
    "collapsed": false
   },
   "outputs": [],
   "source": [
    "val grepResults = for {\n",
    "  file     <- filesHere\n",
    "  if file.getName.endsWith(\".ipynb\")\n",
    "  line     <- fileLines(file)\n",
    "  trimmed  =  line.trim\n",
    "  if trimmed.length > 25\n",
    "  if trimmed.matches(\".*for.*\")\n",
    "} yield trimmed.length -> trimmed\n",
    "\n",
    "grepResults foreach println"
   ]
  },
  {
   "cell_type": "code",
   "execution_count": null,
   "metadata": {
    "collapsed": true
   },
   "outputs": [],
   "source": []
  }
 ],
 "metadata": {
  "kernelspec": {
   "display_name": "Scala 2.11",
   "language": "scala211",
   "name": "scala211"
  },
  "language_info": {
   "codemirror_mode": "text/x-scala",
   "file_extension": ".scala",
   "mimetype": "text/x-scala",
   "name": "scala211",
   "pygments_lexer": "scala",
   "version": "2.11.8"
  }
 },
 "nbformat": 4,
 "nbformat_minor": 0
}
