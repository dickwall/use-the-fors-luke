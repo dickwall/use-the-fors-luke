{
 "cells": [
  {
   "cell_type": "code",
   "execution_count": 1,
   "metadata": {
    "collapsed": false
   },
   "outputs": [
    {
     "data": {
      "text/plain": [
       "\u001b[32mimport \u001b[36mscala.concurrent._\u001b[0m\n",
       "\u001b[32mimport \u001b[36mscala.concurrent.ExecutionContext.Implicits.global\u001b[0m\n",
       "\u001b[32mimport \u001b[36mduration._\u001b[0m"
      ]
     },
     "metadata": {},
     "output_type": "display_data"
    }
   ],
   "source": [
    "import scala.concurrent._\n",
    "import scala.concurrent.ExecutionContext.Implicits.global\n",
    "import duration._"
   ]
  },
  {
   "cell_type": "code",
   "execution_count": 2,
   "metadata": {
    "collapsed": false
   },
   "outputs": [
    {
     "data": {
      "text/plain": [
       "\u001b[36mf1\u001b[0m: \u001b[32mFuture\u001b[0m[\u001b[32mInt\u001b[0m] = Success(10)\n",
       "\u001b[36mo2\u001b[0m: \u001b[32mOption\u001b[0m[\u001b[32mInt\u001b[0m] = \u001b[33mSome\u001b[0m(\u001b[32m20\u001b[0m)\n",
       "\u001b[36mf3\u001b[0m: \u001b[32mFuture\u001b[0m[\u001b[32mInt\u001b[0m] = Success(30)"
      ]
     },
     "metadata": {},
     "output_type": "display_data"
    }
   ],
   "source": [
    "val f1 = Future(10)\n",
    "val o2 = Option(20)\n",
    "val f3 = Future(30)\n",
    "\n"
   ]
  },
  {
   "cell_type": "code",
   "execution_count": 2,
   "metadata": {
    "collapsed": false
   },
   "outputs": [
    {
     "ename": "",
     "evalue": "",
     "output_type": "error",
     "traceback": [
      "\u001b[31mMain.scala:44: type mismatch;",
      " found   : scala.concurrent.Future[Int]",
      " required: Option[?]",
      "    z <- f3",
      "      ^\u001b[0m",
      "\u001b[31mMain.scala:43: type mismatch;",
      " found   : Option[Nothing]",
      " required: scala.concurrent.Future[?]",
      "    y <- o2",
      "      ^\u001b[0m"
     ]
    }
   ],
   "source": [
    "val result = for {\n",
    "    x <- f1\n",
    "    y <- o2\n",
    "    z <- f3\n",
    "} yield x * y * z  // Sad Vader..."
   ]
  },
  {
   "cell_type": "code",
   "execution_count": 3,
   "metadata": {
    "collapsed": false
   },
   "outputs": [
    {
     "data": {
      "text/plain": [
       "\u001b[36mresult\u001b[0m: \u001b[32mFuture\u001b[0m[\u001b[32mOption\u001b[0m[\u001b[32mInt\u001b[0m]] = Success(Some(6000))\n",
       "\u001b[36mres2_1\u001b[0m: \u001b[32mOption\u001b[0m[\u001b[32mInt\u001b[0m] = \u001b[33mSome\u001b[0m(\u001b[32m6000\u001b[0m)"
      ]
     },
     "metadata": {},
     "output_type": "display_data"
    }
   ],
   "source": [
    "val result = for {\n",
    "    x   <- f1\n",
    "    z   <- f3\n",
    "    res =  for (y <- o2) yield x * y * z\n",
    "} yield res\n",
    "\n",
    "Await.result(result, 1.second)"
   ]
  },
  {
   "cell_type": "code",
   "execution_count": 4,
   "metadata": {
    "collapsed": false
   },
   "outputs": [
    {
     "data": {
      "text/plain": [
       "defined \u001b[32mfunction \u001b[36mmultOptions\u001b[0m\n",
       "\u001b[36mresult\u001b[0m: \u001b[32mFuture\u001b[0m[\u001b[32mOption\u001b[0m[\u001b[32mInt\u001b[0m]] = Success(Some(6000))\n",
       "\u001b[36mres3_2\u001b[0m: \u001b[32mOption\u001b[0m[\u001b[32mInt\u001b[0m] = \u001b[33mSome\u001b[0m(\u001b[32m6000\u001b[0m)"
      ]
     },
     "metadata": {},
     "output_type": "display_data"
    }
   ],
   "source": [
    "def multOptions(o1: Option[Int], o2: Option[Int], o3: Option[Int]): Option[Int] =\n",
    "  for {\n",
    "    x <- o1\n",
    "    y <- o2\n",
    "    z <- o3\n",
    "  } yield x * y * z\n",
    "\n",
    "val result = for {\n",
    "    v1 <- f1\n",
    "    v3 <- f3\n",
    "} yield multOptions(Some(v1), o2, Some(v3))\n",
    "\n",
    "Await.result(result, 1.second)"
   ]
  },
  {
   "cell_type": "code",
   "execution_count": null,
   "metadata": {
    "collapsed": true
   },
   "outputs": [],
   "source": []
  }
 ],
 "metadata": {
  "kernelspec": {
   "display_name": "Scala 2.11",
   "language": "scala211",
   "name": "scala211"
  },
  "language_info": {
   "codemirror_mode": "text/x-scala",
   "file_extension": ".scala",
   "mimetype": "text/x-scala",
   "name": "scala211",
   "pygments_lexer": "scala",
   "version": "2.11.8"
  }
 },
 "nbformat": 4,
 "nbformat_minor": 0
}
