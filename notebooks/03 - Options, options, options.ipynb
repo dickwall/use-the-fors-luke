{
 "cells": [
  {
   "cell_type": "code",
   "execution_count": 1,
   "metadata": {
    "collapsed": false
   },
   "outputs": [
    {
     "data": {
      "text/plain": [
       "\u001b[36mx\u001b[0m: \u001b[32mInt\u001b[0m = \u001b[32m1\u001b[0m\n",
       "\u001b[36my\u001b[0m: \u001b[32mInt\u001b[0m = \u001b[32m2\u001b[0m\n",
       "\u001b[36mz\u001b[0m: \u001b[32mInt\u001b[0m = \u001b[32m3\u001b[0m\n",
       "\u001b[36mresult\u001b[0m: \u001b[32mInt\u001b[0m = \u001b[32m6\u001b[0m"
      ]
     },
     "metadata": {},
     "output_type": "display_data"
    }
   ],
   "source": [
    "val x = 1\n",
    "val y = 2\n",
    "val z = 3\n",
    "\n",
    "val result = x * y * z"
   ]
  },
  {
   "cell_type": "code",
   "execution_count": 2,
   "metadata": {
    "collapsed": false
   },
   "outputs": [
    {
     "data": {
      "text/plain": [
       "\u001b[36mox\u001b[0m: \u001b[32mSome\u001b[0m[\u001b[32mInt\u001b[0m] = \u001b[33mSome\u001b[0m(\u001b[32m1\u001b[0m)\n",
       "\u001b[36moy\u001b[0m: \u001b[32mSome\u001b[0m[\u001b[32mInt\u001b[0m] = \u001b[33mSome\u001b[0m(\u001b[32m2\u001b[0m)\n",
       "\u001b[36moz\u001b[0m: \u001b[32mSome\u001b[0m[\u001b[32mInt\u001b[0m] = \u001b[33mSome\u001b[0m(\u001b[32m3\u001b[0m)\n",
       "\u001b[36moResult\u001b[0m: \u001b[32mOption\u001b[0m[\u001b[32mInt\u001b[0m] = \u001b[33mSome\u001b[0m(\u001b[32m6\u001b[0m)"
      ]
     },
     "metadata": {},
     "output_type": "display_data"
    }
   ],
   "source": [
    "val ox = Some(1)\n",
    "val oy = Some(2)\n",
    "val oz = Some(3)\n",
    "\n",
    "val oResult = for {\n",
    "  x <- ox\n",
    "  y <- oy\n",
    "  z <- oz\n",
    "} yield {\n",
    "  x * y * z\n",
    "}"
   ]
  },
  {
   "cell_type": "code",
   "execution_count": 3,
   "metadata": {
    "collapsed": false
   },
   "outputs": [
    {
     "data": {
      "text/plain": [
       "\u001b[36mox\u001b[0m: \u001b[32mSome\u001b[0m[\u001b[32mInt\u001b[0m] = \u001b[33mSome\u001b[0m(\u001b[32m1\u001b[0m)\n",
       "\u001b[36moy\u001b[0m: \u001b[32mOption\u001b[0m[\u001b[32mInt\u001b[0m] = None\n",
       "\u001b[36moz\u001b[0m: \u001b[32mSome\u001b[0m[\u001b[32mInt\u001b[0m] = \u001b[33mSome\u001b[0m(\u001b[32m3\u001b[0m)\n",
       "\u001b[36moResult\u001b[0m: \u001b[32mOption\u001b[0m[\u001b[32mInt\u001b[0m] = None"
      ]
     },
     "metadata": {},
     "output_type": "display_data"
    }
   ],
   "source": [
    "val ox = Some(1)\n",
    "val oy: Option[Int] = None\n",
    "val oz = Some(3)\n",
    "\n",
    "val oResult = for {\n",
    "  x <- ox\n",
    "  y <- oy\n",
    "  z <- oz\n",
    "} yield {\n",
    "  x * y * z\n",
    "}"
   ]
  },
  {
   "cell_type": "code",
   "execution_count": null,
   "metadata": {
    "collapsed": true
   },
   "outputs": [],
   "source": []
  },
  {
   "cell_type": "code",
   "execution_count": null,
   "metadata": {
    "collapsed": true
   },
   "outputs": [],
   "source": []
  }
 ],
 "metadata": {
  "kernelspec": {
   "display_name": "Scala 2.11",
   "language": "scala211",
   "name": "scala211"
  },
  "language_info": {
   "codemirror_mode": "text/x-scala",
   "file_extension": ".scala",
   "mimetype": "text/x-scala",
   "name": "scala211",
   "pygments_lexer": "scala",
   "version": "2.11.8"
  }
 },
 "nbformat": 4,
 "nbformat_minor": 0
}
