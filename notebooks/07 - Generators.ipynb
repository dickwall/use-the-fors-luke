{
 "cells": [
  {
   "cell_type": "code",
   "execution_count": 1,
   "metadata": {
    "collapsed": false
   },
   "outputs": [
    {
     "data": {
      "text/plain": [
       "\u001b[36mres0\u001b[0m: \u001b[32mcollection\u001b[0m.\u001b[32mimmutable\u001b[0m.\u001b[32mIndexedSeq\u001b[0m[\u001b[32mInt\u001b[0m] = \u001b[33mVector\u001b[0m(\u001b[32m1\u001b[0m, \u001b[32m4\u001b[0m, \u001b[32m9\u001b[0m, \u001b[32m16\u001b[0m, \u001b[32m25\u001b[0m)"
      ]
     },
     "metadata": {},
     "output_type": "display_data"
    }
   ],
   "source": [
    "for (i <- 1 to 5) yield i * i"
   ]
  },
  {
   "cell_type": "code",
   "execution_count": 2,
   "metadata": {
    "collapsed": false
   },
   "outputs": [
    {
     "name": "stdout",
     "output_type": "stream",
     "text": [
      "Step 1: Go to island\n",
      "Step 2: Find big X on ground\n",
      "Step 3: Dig to find treasure\n"
     ]
    },
    {
     "data": {
      "text/plain": [
       "\u001b[36mtreasureMap\u001b[0m: \u001b[32mMap\u001b[0m[\u001b[32mInt\u001b[0m, \u001b[32mString\u001b[0m] = \u001b[33mMap\u001b[0m(\n",
       "  \u001b[32m1\u001b[0m -> \u001b[32m\"Go to island\"\u001b[0m,\n",
       "  \u001b[32m2\u001b[0m -> \u001b[32m\"Find big X on ground\"\u001b[0m,\n",
       "  \u001b[32m3\u001b[0m -> \u001b[32m\"Dig to find treasure\"\u001b[0m\n",
       ")"
      ]
     },
     "metadata": {},
     "output_type": "display_data"
    }
   ],
   "source": [
    "val treasureMap = Map(\n",
    "  1 -> \"Go to island\",\n",
    "  2 -> \"Find big X on ground\",\n",
    "  3 -> \"Dig to find treasure\"\n",
    ")\n",
    "\n",
    "for ((stepNo, instruction) <- treasureMap) {\n",
    "    println(s\"Step $stepNo: $instruction\")\n",
    "}"
   ]
  },
  {
   "cell_type": "code",
   "execution_count": 3,
   "metadata": {
    "collapsed": false
   },
   "outputs": [
    {
     "name": "stdout",
     "output_type": "stream",
     "text": [
      "Step 1: Go to island\n"
     ]
    },
    {
     "data": {
      "text/plain": []
     },
     "metadata": {},
     "output_type": "display_data"
    }
   ],
   "source": [
    "treasureMap.head match {\n",
    "    case (stepNo, instruction) => println(s\"Step $stepNo: $instruction\")\n",
    "}"
   ]
  },
  {
   "cell_type": "code",
   "execution_count": 4,
   "metadata": {
    "collapsed": false
   },
   "outputs": [
    {
     "name": "stdout",
     "output_type": "stream",
     "text": [
      "Step 1: Go to island\n",
      "Step 2: Find big X on ground\n",
      "Step 3: Dig to find treasure\n"
     ]
    },
    {
     "data": {
      "text/plain": [
       "\u001b[36mres3\u001b[0m: \u001b[32mcollection\u001b[0m.\u001b[32mimmutable\u001b[0m.\u001b[32mIterable\u001b[0m[\u001b[32mUnit\u001b[0m] = \u001b[33mList\u001b[0m(\u001b[32m()\u001b[0m, \u001b[32m()\u001b[0m, \u001b[32m()\u001b[0m)"
      ]
     },
     "metadata": {},
     "output_type": "display_data"
    }
   ],
   "source": [
    "treasureMap.map {\n",
    "    case (stepNo, instruction) => println(s\"Step $stepNo: $instruction\")\n",
    "}"
   ]
  },
  {
   "cell_type": "code",
   "execution_count": 6,
   "metadata": {
    "collapsed": false
   },
   "outputs": [
    {
     "data": {
      "text/plain": [
       "\u001b[36mstepNo\u001b[0m: \u001b[32mInt\u001b[0m = \u001b[32m1\u001b[0m\n",
       "\u001b[36minstruction\u001b[0m: \u001b[32mString\u001b[0m = \u001b[32m\"Go to island\"\u001b[0m"
      ]
     },
     "metadata": {},
     "output_type": "display_data"
    }
   ],
   "source": [
    "val (stepNo, instruction) = treasureMap.head"
   ]
  },
  {
   "cell_type": "code",
   "execution_count": 5,
   "metadata": {
    "collapsed": false
   },
   "outputs": [
    {
     "ename": "",
     "evalue": "",
     "output_type": "error",
     "traceback": [
      "scala.MatchError: foo (of class java.lang.String) (foo (of class java.lang.String))"
     ]
    }
   ],
   "source": [
    "val foo: Any = \"foo\"\n",
    "val (stepNo, instruction) = foo"
   ]
  },
  {
   "cell_type": "code",
   "execution_count": 7,
   "metadata": {
    "collapsed": false
   },
   "outputs": [
    {
     "name": "stdout",
     "output_type": "stream",
     "text": [
      "Amazingly, Harry Potter is now 30 years old\n",
      "Amazingly, Hermione Weasley is now 30 years old\n",
      "Amazingly, Ginny Potter is now 28 years old\n",
      "Are you feeling old yet?\n"
     ]
    },
    {
     "data": {
      "text/plain": [
       "defined \u001b[32mclass \u001b[36mPerson\u001b[0m\n",
       "\u001b[36mpeople\u001b[0m: \u001b[32mSeq\u001b[0m[\u001b[32m$user\u001b[0m.\u001b[32mPerson\u001b[0m] = \u001b[33mList\u001b[0m(\n",
       "  \u001b[33mPerson\u001b[0m(\u001b[32m\"Harry\"\u001b[0m, \u001b[32m\"Potter\"\u001b[0m, \u001b[32m30\u001b[0m),\n",
       "  \u001b[33mPerson\u001b[0m(\u001b[32m\"Hermione\"\u001b[0m, \u001b[32m\"Weasley\"\u001b[0m, \u001b[32m30\u001b[0m),\n",
       "  \u001b[33mPerson\u001b[0m(\u001b[32m\"Ginny\"\u001b[0m, \u001b[32m\"Potter\"\u001b[0m, \u001b[32m28\u001b[0m)\n",
       ")"
      ]
     },
     "metadata": {},
     "output_type": "display_data"
    }
   ],
   "source": [
    "case class Person(first: String, last: String, age: Int)\n",
    "\n",
    "val people = Seq(Person(\"Harry\", \"Potter\", 30), Person(\"Hermione\", \"Weasley\", 30), Person(\"Ginny\", \"Potter\", 28))\n",
    "\n",
    "for (Person(first, last, age) <- people) println(s\"Amazingly, $first $last is now $age years old\")\n",
    "\n",
    "println(\"Are you feeling old yet?\")"
   ]
  },
  {
   "cell_type": "code",
   "execution_count": 8,
   "metadata": {
    "collapsed": false
   },
   "outputs": [
    {
     "data": {
      "text/plain": [
       "defined \u001b[32mobject \u001b[36mEven\u001b[0m\n",
       "\u001b[36mres7_1\u001b[0m: \u001b[32mcollection\u001b[0m.\u001b[32mimmutable\u001b[0m.\u001b[32mIndexedSeq\u001b[0m[\u001b[32mInt\u001b[0m] = \u001b[33mVector\u001b[0m(\n",
       "  \u001b[32m2\u001b[0m,\n",
       "  \u001b[32m4\u001b[0m,\n",
       "  \u001b[32m6\u001b[0m,\n",
       "  \u001b[32m8\u001b[0m,\n",
       "  \u001b[32m10\u001b[0m,\n",
       "  \u001b[32m12\u001b[0m,\n",
       "  \u001b[32m14\u001b[0m,\n",
       "  \u001b[32m16\u001b[0m,\n",
       "  \u001b[32m18\u001b[0m,\n",
       "  \u001b[32m20\u001b[0m,\n",
       "  \u001b[32m22\u001b[0m,\n",
       "  \u001b[32m24\u001b[0m,\n",
       "  \u001b[32m26\u001b[0m,\n",
       "  \u001b[32m28\u001b[0m,\n",
       "  \u001b[32m30\u001b[0m,\n",
       "  \u001b[32m32\u001b[0m,\n",
       "  \u001b[32m34\u001b[0m,\n",
       "  \u001b[32m36\u001b[0m,\n",
       "  \u001b[32m38\u001b[0m,\n",
       "\u001b[33m...\u001b[0m"
      ]
     },
     "metadata": {},
     "output_type": "display_data"
    }
   ],
   "source": [
    "object Even {\n",
    "  def unapply(x: Int): Boolean = x % 2 == 0\n",
    "}\n",
    "\n",
    "for {\n",
    "  x @ Even() <- 1 to 100\n",
    "} yield x\n"
   ]
  },
  {
   "cell_type": "code",
   "execution_count": null,
   "metadata": {
    "collapsed": true
   },
   "outputs": [],
   "source": []
  },
  {
   "cell_type": "code",
   "execution_count": null,
   "metadata": {
    "collapsed": true
   },
   "outputs": [],
   "source": []
  }
 ],
 "metadata": {
  "kernelspec": {
   "display_name": "Scala 2.11",
   "language": "scala211",
   "name": "scala211"
  },
  "language_info": {
   "codemirror_mode": "text/x-scala",
   "file_extension": ".scala",
   "mimetype": "text/x-scala",
   "name": "scala211",
   "pygments_lexer": "scala",
   "version": "2.11.8"
  }
 },
 "nbformat": 4,
 "nbformat_minor": 0
}
