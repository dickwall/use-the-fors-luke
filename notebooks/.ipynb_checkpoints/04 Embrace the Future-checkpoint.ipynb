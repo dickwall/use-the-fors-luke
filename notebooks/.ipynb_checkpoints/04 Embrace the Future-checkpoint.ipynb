{
 "cells": [
  {
   "cell_type": "code",
   "execution_count": null,
   "metadata": {
    "collapsed": false
   },
   "outputs": [],
   "source": [
    "import scala.concurrent._\n",
    "import ExecutionContext.Implicits.global\n",
    "import duration._"
   ]
  },
  {
   "cell_type": "code",
   "execution_count": null,
   "metadata": {
    "collapsed": false
   },
   "outputs": [],
   "source": [
    "val f1 = Future { Thread.sleep(10000); 6 }\n",
    "val f2 = Future { Thread.sleep(10000); 7 }\n",
    "\n",
    "val f3 = for {\n",
    "    x <- f1\n",
    "    y <- f2\n",
    "} yield x * y\n",
    "\n",
    "f3.value\n"
   ]
  },
  {
   "cell_type": "code",
   "execution_count": null,
   "metadata": {
    "collapsed": false
   },
   "outputs": [],
   "source": [
    "Await.result(f3, 11.seconds)"
   ]
  },
  {
   "cell_type": "code",
   "execution_count": null,
   "metadata": {
    "collapsed": false
   },
   "outputs": [],
   "source": [
    "val f1 = Future { Thread.sleep(1000); 6 }\n",
    "val f2 = Future { Thread.sleep(1000); 7 / 0 }\n",
    "\n",
    "val f3 = for {\n",
    "    x <- f1\n",
    "    y <- f2\n",
    "} yield x * y\n",
    "\n",
    "f3.value"
   ]
  },
  {
   "cell_type": "code",
   "execution_count": null,
   "metadata": {
    "collapsed": false
   },
   "outputs": [],
   "source": [
    "Await.result(f3, 2.seconds)"
   ]
  },
  {
   "cell_type": "code",
   "execution_count": null,
   "metadata": {
    "collapsed": true
   },
   "outputs": [],
   "source": []
  }
 ],
 "metadata": {
  "kernelspec": {
   "display_name": "Scala 2.11",
   "language": "scala211",
   "name": "scala211"
  },
  "language_info": {
   "codemirror_mode": "text/x-scala",
   "file_extension": ".scala",
   "mimetype": "text/x-scala",
   "name": "scala211",
   "pygments_lexer": "scala",
   "version": "2.11.8"
  }
 },
 "nbformat": 4,
 "nbformat_minor": 0
}
