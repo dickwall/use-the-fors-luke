{
 "cells": [
  {
   "cell_type": "code",
   "execution_count": null,
   "metadata": {
    "collapsed": false
   },
   "outputs": [],
   "source": [
    "case class Passenger(name: String, cellPhoneNumber: Option[String])\n",
    "case class Carriage(passengers: List[Passenger])\n",
    "case class Train(name: String, carriages: List[Carriage])\n",
    "case class Route(name: String, activeTrain: Option[Train])"
   ]
  },
  {
   "cell_type": "code",
   "execution_count": null,
   "metadata": {
    "collapsed": false
   },
   "outputs": [],
   "source": [
    "val route1 = Route(\"Glen Gach to Glen Pach\",\n",
    "    Some(Train(\"The Flying Scotsman\",\n",
    "      List(Carriage(List(Passenger(\"Rob Roy\", Some(\"121-212-1212\")), Passenger(\"Connor McCleod\", None))),\n",
    "           Carriage(List(Passenger(\"Joey McDougall\", Some(\"454-545-4545\")))))\n",
    "    ))\n",
    ")\n",
    "\n",
    "val route2 = Route(\"Defuncto 1\", None)\n",
    "\n",
    "val route3 = Route(\"Busy Route of Luddites\",\n",
    "    Some(Train(\"The Tech Express\",\n",
    "      List(Carriage(List(Passenger(\"Ug\", None), Passenger(\"Glug\", None))),\n",
    "           Carriage(Nil),\n",
    "           Carriage(List(Passenger(\"Smug\", Some(\"323-232-3232\")))))\n",
    "    ))\n",
    ")\n",
    "\n",
    "val routes = List(route1, route2, route3)"
   ]
  },
  {
   "cell_type": "code",
   "execution_count": null,
   "metadata": {
    "collapsed": false
   },
   "outputs": [],
   "source": [
    "for {\n",
    "    route <- routes\n",
    "    active <- route.activeTrain   // huh!\n",
    "    carriage <- active.carriages\n",
    "    passenger <- carriage.passengers\n",
    "    number <- passenger.cellPhoneNumber\n",
    "} yield number"
   ]
  },
  {
   "cell_type": "code",
   "execution_count": null,
   "metadata": {
    "collapsed": false
   },
   "outputs": [],
   "source": [
    "routes.flatMap { route =>  // Seq  (flatMap A => Seq[B])\n",
    "    route.activeTrain.flatMap { active =>  // Option  (flatMap A => Option[B]) // these two\n",
    "        active.carriages.flatMap { carriage =>  // Seq  (flatMap A => Seq[B])  // are the problem...\n",
    "            carriage.passengers.flatMap { passenger =>  // Seq\n",
    "                passenger.cellPhoneNumber.map { number =>  // Option\n",
    "                    number\n",
    "                }\n",
    "            }\n",
    "        }\n",
    "    }\n",
    "}"
   ]
  },
  {
   "cell_type": "code",
   "execution_count": null,
   "metadata": {
    "collapsed": false
   },
   "outputs": [],
   "source": [
    "for {\n",
    "    route <- routes\n",
    "    active <- route.activeTrain.toSeq   // recommended whenever mixing options and seqs\n",
    "    carriage <- active.carriages\n",
    "    passenger <- carriage.passengers\n",
    "    number <- passenger.cellPhoneNumber.toSeq  // unnecessary here, but still clear\n",
    "} yield number"
   ]
  },
  {
   "cell_type": "code",
   "execution_count": null,
   "metadata": {
    "collapsed": false
   },
   "outputs": [],
   "source": [
    "import scala.concurrent._\n",
    "import ExecutionContext.Implicits.global\n",
    "import duration._\n"
   ]
  },
  {
   "cell_type": "code",
   "execution_count": null,
   "metadata": {
    "collapsed": false
   },
   "outputs": [],
   "source": [
    "val fListONums = Future(List(1,2,3,4,5))\n",
    "def square(x: Int): Future[Int] = Future(x * x)\n",
    "\n",
    "for {\n",
    "    nums <- fListONums\n",
    "    num <- nums    // doh! - no mixie!\n",
    "    sq <- square(num)\n",
    "} yield sq"
   ]
  },
  {
   "cell_type": "code",
   "execution_count": null,
   "metadata": {
    "collapsed": false
   },
   "outputs": [],
   "source": [
    "val fListONums = Future(List(1,2,3,4,5))\n",
    "def square(x: Int): Future[Int] = Future(x * x)\n",
    "\n",
    "for {\n",
    "    nums <- fListONums\n",
    "    squares <- Future.traverse(nums)(x => square(x))  // Seq[Int] & Int => Future[Int] => Future[Seq[Int]]\n",
    "} yield squares"
   ]
  },
  {
   "cell_type": "code",
   "execution_count": null,
   "metadata": {
    "collapsed": true
   },
   "outputs": [],
   "source": []
  }
 ],
 "metadata": {
  "kernelspec": {
   "display_name": "Scala 2.11",
   "language": "scala211",
   "name": "scala211"
  },
  "language_info": {
   "codemirror_mode": "text/x-scala",
   "file_extension": ".scala",
   "mimetype": "text/x-scala",
   "name": "scala211",
   "pygments_lexer": "scala",
   "version": "2.11.8"
  }
 },
 "nbformat": 4,
 "nbformat_minor": 0
}
