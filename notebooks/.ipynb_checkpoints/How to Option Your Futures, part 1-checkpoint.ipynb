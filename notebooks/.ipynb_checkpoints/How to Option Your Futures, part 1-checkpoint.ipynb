{
 "cells": [
  {
   "cell_type": "code",
   "execution_count": null,
   "metadata": {
    "collapsed": false
   },
   "outputs": [],
   "source": [
    "import scala.concurrent._\n",
    "import scala.concurrent.ExecutionContext.Implicits.global\n",
    "import duration._"
   ]
  },
  {
   "cell_type": "code",
   "execution_count": null,
   "metadata": {
    "collapsed": false
   },
   "outputs": [],
   "source": [
    "val f1 = Future(10)\n",
    "val o2 = Option(20)\n",
    "val f3 = Future(30)\n",
    "\n"
   ]
  },
  {
   "cell_type": "code",
   "execution_count": null,
   "metadata": {
    "collapsed": false
   },
   "outputs": [],
   "source": [
    "val result = for {\n",
    "    x <- f1\n",
    "    y <- o2\n",
    "    z <- f3\n",
    "} yield x * y * z  // Sad Vader..."
   ]
  },
  {
   "cell_type": "code",
   "execution_count": null,
   "metadata": {
    "collapsed": false
   },
   "outputs": [],
   "source": [
    "val result = for {\n",
    "    x   <- f1\n",
    "    z   <- f3\n",
    "    res =  for (y <- o2) yield x * y * z\n",
    "} yield res\n",
    "\n",
    "Await.result(result, 1.second)"
   ]
  },
  {
   "cell_type": "code",
   "execution_count": null,
   "metadata": {
    "collapsed": false
   },
   "outputs": [],
   "source": [
    "def multOptions(o1: Option[Int], o2: Option[Int], o3: Option[Int]): Option[Int] =\n",
    "  for {\n",
    "    x <- o1\n",
    "    y <- o2\n",
    "    z <- o3\n",
    "  } yield x * y * z\n",
    "\n",
    "val result = for {\n",
    "    v1 <- f1\n",
    "    v3 <- f3\n",
    "} yield multOptions(Some(v1), o2, Some(v3))\n",
    "\n",
    "Await.result(result, 1.second)"
   ]
  },
  {
   "cell_type": "code",
   "execution_count": null,
   "metadata": {
    "collapsed": true
   },
   "outputs": [],
   "source": []
  }
 ],
 "metadata": {
  "kernelspec": {
   "display_name": "Scala 2.11",
   "language": "scala211",
   "name": "scala211"
  },
  "language_info": {
   "codemirror_mode": "text/x-scala",
   "file_extension": ".scala",
   "mimetype": "text/x-scala",
   "name": "scala211",
   "pygments_lexer": "scala",
   "version": "2.11.8"
  }
 },
 "nbformat": 4,
 "nbformat_minor": 0
}
