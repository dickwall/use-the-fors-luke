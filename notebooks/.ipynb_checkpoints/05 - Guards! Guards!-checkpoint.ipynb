{
 "cells": [
  {
   "cell_type": "code",
   "execution_count": null,
   "metadata": {
    "collapsed": false
   },
   "outputs": [],
   "source": [
    "for {\n",
    "    x <- 1 to 10\n",
    "    y <- 1 to 10\n",
    "    if x % 4 < y % 5\n",
    "    if x % 2 == 0\n",
    "} yield x * y"
   ]
  },
  {
   "cell_type": "code",
   "execution_count": null,
   "metadata": {
    "collapsed": false
   },
   "outputs": [],
   "source": [
    "for {\n",
    "    i <- 1 to 10\n",
    "    j <- 1 to 10\n",
    "    if i % 3 == 0 || j % 3 == 0\n",
    "    k <- 1 to 10\n",
    "    if i * j * k % 2 == 0\n",
    "} yield i * j * k"
   ]
  },
  {
   "cell_type": "code",
   "execution_count": null,
   "metadata": {
    "collapsed": false
   },
   "outputs": [],
   "source": [
    "(1 to 10).flatMap { i =>\n",
    "  (1 to 10).withFilter(j => i % 3 == 0 || j % 3 == 0).flatMap { j =>\n",
    "    (1 to 10).withFilter(k => i * j * k % 2 == 0).map { k =>\n",
    "      i * j * k\n",
    "    }\n",
    "  }                  \n",
    "}"
   ]
  },
  {
   "cell_type": "code",
   "execution_count": null,
   "metadata": {
    "collapsed": false
   },
   "outputs": [],
   "source": [
    "for {\n",
    "    i <- 1 to 10\n",
    "    j <- 1 to 10\n",
    "    if i % 3 == 0 || j % 3 == 0\n",
    "    k <- 1 to 10\n",
    "    if i * j * k % 2 == 0\n",
    "} yield i * j * k"
   ]
  },
  {
   "cell_type": "code",
   "execution_count": null,
   "metadata": {
    "collapsed": false
   },
   "outputs": [],
   "source": []
  },
  {
   "cell_type": "code",
   "execution_count": null,
   "metadata": {
    "collapsed": true
   },
   "outputs": [],
   "source": []
  }
 ],
 "metadata": {
  "kernelspec": {
   "display_name": "Scala 2.11",
   "language": "scala211",
   "name": "scala211"
  },
  "language_info": {
   "codemirror_mode": "text/x-scala",
   "file_extension": ".scala",
   "mimetype": "text/x-scala",
   "name": "scala211",
   "pygments_lexer": "scala",
   "version": "2.11.8"
  }
 },
 "nbformat": 4,
 "nbformat_minor": 0
}
