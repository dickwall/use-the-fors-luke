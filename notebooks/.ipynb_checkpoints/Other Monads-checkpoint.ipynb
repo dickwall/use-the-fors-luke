{
 "cells": [
  {
   "cell_type": "code",
   "execution_count": null,
   "metadata": {
    "collapsed": false
   },
   "outputs": [],
   "source": [
    "val e1: Either[String, Int] = Right(6)\n",
    "val e2: Either[String, Int] = Right(7)\n",
    "\n",
    "for {\n",
    "    x <- e1.right\n",
    "    y <- e2.right\n",
    "} yield x * y"
   ]
  },
  {
   "cell_type": "code",
   "execution_count": null,
   "metadata": {
    "collapsed": false
   },
   "outputs": [],
   "source": [
    "val e1: Either[String, Int] = Right(6)\n",
    "val e2: Either[String, Int] = Left(\"Bad Number\")\n",
    "\n",
    "for {\n",
    "    x <- e1.right\n",
    "    y <- e2.right\n",
    "} yield x * y"
   ]
  },
  {
   "cell_type": "code",
   "execution_count": null,
   "metadata": {
    "collapsed": false
   },
   "outputs": [],
   "source": [
    "classpath.add(\"org.scalactic\" %% \"scalactic\" % \"3.0.0\")"
   ]
  },
  {
   "cell_type": "code",
   "execution_count": null,
   "metadata": {
    "collapsed": false
   },
   "outputs": [],
   "source": [
    "import org.scalactic._\n",
    "\n",
    "def parseName(input: String): String Or ErrorMessage = {\n",
    "  val trimmed = input.trim\n",
    "  if (!trimmed.isEmpty) Good(trimmed) else Bad(s\"\"\"\"${input}\" is not a valid name\"\"\")\n",
    "}\n",
    "\n",
    "def parseAge(input: String): Int Or ErrorMessage = {\n",
    "  try {\n",
    "    val age = input.trim.toInt\n",
    "    if (age >= 0) Good(age) else Bad(s\"\"\"\"${age}\" is not a valid age\"\"\")\n",
    "  }\n",
    "  catch {\n",
    "    case _: NumberFormatException => Bad(s\"\"\"${input}\" is not a valid integer\"\"\")\n",
    "  }\n",
    "}"
   ]
  },
  {
   "cell_type": "code",
   "execution_count": null,
   "metadata": {
    "collapsed": false
   },
   "outputs": [],
   "source": [
    "case class Person(name: String, age: Int)\n",
    "\n",
    "def parsePerson(inputName: String, inputAge: String): Person Or ErrorMessage =\n",
    "  for {\n",
    "    name <- parseName(inputName)\n",
    "    age <- parseAge(inputAge)\n",
    "  } yield Person(name, age)"
   ]
  },
  {
   "cell_type": "code",
   "execution_count": null,
   "metadata": {
    "collapsed": false
   },
   "outputs": [],
   "source": [
    "parsePerson(\"Sally\", \"25\")\n",
    "parsePerson(\"     \", \"22\")\n",
    "parsePerson(\"Sally\", \"twenty eight\")"
   ]
  },
  {
   "cell_type": "code",
   "execution_count": null,
   "metadata": {
    "collapsed": false
   },
   "outputs": [],
   "source": [
    "classpath.add(\"org.typelevel\" %% \"cats\" % \"0.7.2\")\n",
    "\n",
    "import cats.data._\n"
   ]
  },
  {
   "cell_type": "code",
   "execution_count": null,
   "metadata": {
    "collapsed": false
   },
   "outputs": [],
   "source": [
    "type IndexState[A] = State[Int, A]\n",
    "// This returns a next `State` and the index to use for the current node.\n",
    "\n",
    "def nextIdx: State[Int, Int] =\n",
    "  State { currentIndex =>\n",
    "    (currentIndex + 1, currentIndex)\n",
    "  }\n",
    "\n",
    "val program: State[Int, (Int, Int, Int)] = \n",
    " for { \n",
    "   x <- nextIdx\n",
    "   y <- nextIdx\n",
    "   z <- nextIdx\n",
    " } yield (x,y,z)\n",
    "\n",
    "program.run(1).value"
   ]
  },
  {
   "cell_type": "code",
   "execution_count": null,
   "metadata": {
    "collapsed": true
   },
   "outputs": [],
   "source": []
  }
 ],
 "metadata": {
  "kernelspec": {
   "display_name": "Scala 2.11",
   "language": "scala211",
   "name": "scala211"
  },
  "language_info": {
   "codemirror_mode": "text/x-scala",
   "file_extension": ".scala",
   "mimetype": "text/x-scala",
   "name": "scala211",
   "pygments_lexer": "scala",
   "version": "2.11.8"
  }
 },
 "nbformat": 4,
 "nbformat_minor": 0
}
