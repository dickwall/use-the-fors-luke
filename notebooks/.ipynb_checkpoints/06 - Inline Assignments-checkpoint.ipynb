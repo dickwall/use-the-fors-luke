{
 "cells": [
  {
   "cell_type": "code",
   "execution_count": null,
   "metadata": {
    "collapsed": false
   },
   "outputs": [],
   "source": [
    "for {\n",
    "    i <- 1 to 10\n",
    "    j <- 1 to 10\n",
    "    if i % 3 == 0 || j % 3 == 0\n",
    "    k <- 1 to 10\n",
    "    if i * j * k % 2 == 0\n",
    "} yield i * j * k  // why repeat this?"
   ]
  },
  {
   "cell_type": "code",
   "execution_count": null,
   "metadata": {
    "collapsed": false
   },
   "outputs": [],
   "source": [
    "for {\n",
    "    i <- 1 to 10\n",
    "    j <- 1 to 10\n",
    "    if i % 3 == 0 || j % 3 == 0\n",
    "    \n",
    "    k <- 1 to 10\n",
    "    \n",
    "    mult = i * j * k\n",
    "    if mult % 2 == 0\n",
    "} yield mult"
   ]
  },
  {
   "cell_type": "code",
   "execution_count": null,
   "metadata": {
    "collapsed": false
   },
   "outputs": [],
   "source": [
    "(1 to 10).flatMap { i =>\n",
    "  (1 to 10).withFilter(j => i % 3 == 0 || j % 3 == 0).flatMap { j =>\n",
    "    (1 to 10).map { k => \n",
    "      val mult = i * j * k\n",
    "     (k, mult)                 \n",
    "    }.withFilter { \n",
    "      case (k, mult) => mult % 2 == 0 \n",
    "    }.map { \n",
    "      case(k, mult) => mult\n",
    "    }\n",
    "  }\n",
    "}"
   ]
  },
  {
   "cell_type": "code",
   "execution_count": null,
   "metadata": {
    "collapsed": false
   },
   "outputs": [],
   "source": [
    "// what else can we do with assiGnments?\n",
    "\n",
    "val mults = for {\n",
    "    i <- 1 to 5\n",
    "    _ = println(s\"i is $i\")   // or logger.info(s\"$i\") - SIDE EFFECTS!\n",
    "    j <- 1 to 5\n",
    "} yield i * j"
   ]
  },
  {
   "cell_type": "code",
   "execution_count": null,
   "metadata": {
    "collapsed": true
   },
   "outputs": [],
   "source": []
  }
 ],
 "metadata": {
  "kernelspec": {
   "display_name": "Scala 2.11",
   "language": "scala211",
   "name": "scala211"
  },
  "language_info": {
   "codemirror_mode": "text/x-scala",
   "file_extension": ".scala",
   "mimetype": "text/x-scala",
   "name": "scala211",
   "pygments_lexer": "scala",
   "version": "2.11.8"
  }
 },
 "nbformat": 4,
 "nbformat_minor": 0
}
