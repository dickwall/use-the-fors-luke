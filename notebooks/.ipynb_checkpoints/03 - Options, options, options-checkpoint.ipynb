{
 "cells": [
  {
   "cell_type": "code",
   "execution_count": null,
   "metadata": {
    "collapsed": false
   },
   "outputs": [],
   "source": [
    "val x = 1\n",
    "val y = 2\n",
    "val z = 3\n",
    "\n",
    "val result = x * y * z"
   ]
  },
  {
   "cell_type": "code",
   "execution_count": null,
   "metadata": {
    "collapsed": false
   },
   "outputs": [],
   "source": [
    "val ox = Some(1)\n",
    "val oy = Some(2)\n",
    "val oz = Some(3)\n",
    "\n",
    "val oResult = for {\n",
    "  x <- ox\n",
    "  y <- oy\n",
    "  z <- oz\n",
    "} yield {\n",
    "  x * y * z\n",
    "}"
   ]
  },
  {
   "cell_type": "code",
   "execution_count": null,
   "metadata": {
    "collapsed": false
   },
   "outputs": [],
   "source": [
    "val ox = Some(1)\n",
    "val oy: Option[Int] = None\n",
    "val oz = Some(3)\n",
    "\n",
    "val oResult = for {\n",
    "  x <- ox\n",
    "  y <- oy\n",
    "  z <- oz\n",
    "} yield {\n",
    "  x * y * z\n",
    "}"
   ]
  },
  {
   "cell_type": "code",
   "execution_count": null,
   "metadata": {
    "collapsed": true
   },
   "outputs": [],
   "source": []
  }
 ],
 "metadata": {
  "kernelspec": {
   "display_name": "Scala 2.11",
   "language": "scala211",
   "name": "scala211"
  },
  "language_info": {
   "codemirror_mode": "text/x-scala",
   "file_extension": ".scala",
   "mimetype": "text/x-scala",
   "name": "scala211",
   "pygments_lexer": "scala",
   "version": "2.11.8"
  }
 },
 "nbformat": 4,
 "nbformat_minor": 0
}
