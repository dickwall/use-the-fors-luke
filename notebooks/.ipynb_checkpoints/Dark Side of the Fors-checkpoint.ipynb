{
 "cells": [
  {
   "cell_type": "code",
   "execution_count": null,
   "metadata": {
    "collapsed": false
   },
   "outputs": [],
   "source": [
    "trait Sink[To] { sink =>\n",
    "  def apply(t: To): Unit\n",
    "  final def stage[E]: StagedSink[E, E, To] = StagedSink(StagedSink.stagedIdentity[E], this)\n",
    "}\n",
    "\n",
    "final case class StagedSink[First,Current,Final](staged: First => Traversable[Current], sink: Sink[Final]) {\n",
    "  def map[B, To](f: Current => B)(implicit isDone: CanSink[First, B, Final, To]): To = isDone.result(this, f)\n",
    "  def flatMap[B, To](f: Current => TraversableOnce[B])(implicit isDone: CanSink[First, B, Final, To]): To = isDone.result2(this, f)\n",
    "  def withFilter(f: Current => Boolean): StagedSink[First, Current,Final] =\n",
    "    StagedSink(staged andThen { xs => \n",
    "       for(x <- xs; if f(x)) yield x\n",
    "    }, sink)\n",
    "}\n",
    "\n",
    "object StagedSink {\n",
    "  def stagedIdentity[E]: E => Traversable[E] = (e: E) => List(e)\n",
    "}\n",
    "\n",
    "trait CanSink[First, Now, Final, To] {\n",
    "  def result[E](in: StagedSink[First, E, Final], f: E => Now): To\n",
    "  def result2[E](in: StagedSink[First, E, Final], f: E => TraversableOnce[Now]): To\n",
    "}\n",
    "\n",
    "trait LowPrioritySinkImplicits {\n",
    "  implicit def sinkChain[First, Now, Final]: CanSink[First, Now, Final, StagedSink[First, Now, Final]] =\n",
    "    new CanSink[First,Now, Final, StagedSink[First, Now, Final]] {\n",
    "      def result[E](in: StagedSink[First, E, Final], f: E => Now): StagedSink[First, Now, Final] =\n",
    "        StagedSink(in.staged andThen (x => x map f), in.sink)\n",
    "      def result2[E](in: StagedSink[First, E, Final], f: E => TraversableOnce[Now]): StagedSink[First, Now, Final] =\n",
    "        StagedSink(in.staged andThen (x => x flatMap f), in.sink)\n",
    "    }\n",
    "}\n",
    "\n",
    "object CanSink extends LowPrioritySinkImplicits {\n",
    "  implicit def finalSink[First, E]: CanSink[First, E,E, Sink[First]] =\n",
    "    new CanSink[First, E,E, Sink[First]] {\n",
    "      def result[A](ss: StagedSink[First, A, E], f: A => E): Sink[First] =\n",
    "        new Sink[First] {\n",
    "          def apply(in: First): Unit = {\n",
    "            val staged = ss.staged.andThen { xs => xs map f }\n",
    "            for { x <- staged(in) } ss.sink(x)\n",
    "          }\n",
    "        }\n",
    "      def result2[A](ss: StagedSink[First, A, E], f: A => TraversableOnce[E]): Sink[First] =\n",
    "        new Sink[First] {\n",
    "          def apply(in: First): Unit = {\n",
    "            val staged = ss.staged.andThen { xs => xs flatMap f }\n",
    "            for { x <- staged(in) } ss.sink(x)\n",
    "          }\n",
    "        }\n",
    "    }\n",
    "\n",
    "}\n",
    "\n"
   ]
  },
  {
   "cell_type": "code",
   "execution_count": null,
   "metadata": {
    "collapsed": false
   },
   "outputs": [],
   "source": [
    "  case class User(name: String, city: String) {\n",
    "     def livesIn(in: String): Boolean = city == in\n",
    "  }\n",
    "\n",
    "  object stdout extends  Sink[String] {\n",
    "     override def apply(in: String): Unit = System.out.println(in);\n",
    "  }\n",
    "\n",
    "  def userSink: Sink[User] =  \n",
    "    for {\n",
    "      user <- stdout.stage[User]\n",
    "      if user livesIn \"pittsburgh\"\n",
    "    } yield user.name\n",
    "\n",
    "\n",
    "  for {\n",
    "     user <- List(User(\"josh\", \"pittsburgh\"), User(\"dick\",\"morgan hill\"))\n",
    "  }  userSink(user)\n"
   ]
  },
  {
   "cell_type": "code",
   "execution_count": null,
   "metadata": {
    "collapsed": true
   },
   "outputs": [],
   "source": []
  }
 ],
 "metadata": {
  "kernelspec": {
   "display_name": "Scala 2.11",
   "language": "scala211",
   "name": "scala211"
  },
  "language_info": {
   "codemirror_mode": "text/x-scala",
   "file_extension": ".scala",
   "mimetype": "text/x-scala",
   "name": "scala211",
   "pygments_lexer": "scala",
   "version": "2.11.8"
  }
 },
 "nbformat": 4,
 "nbformat_minor": 0
}
