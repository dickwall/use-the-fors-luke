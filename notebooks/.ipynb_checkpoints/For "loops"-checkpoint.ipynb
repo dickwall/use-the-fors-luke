{
 "cells": [
  {
   "cell_type": "code",
   "execution_count": null,
   "metadata": {
    "collapsed": false
   },
   "outputs": [],
   "source": [
    "for (i <- 1 to 10) println(\"hello world\")"
   ]
  },
  {
   "cell_type": "code",
   "execution_count": null,
   "metadata": {
    "collapsed": false
   },
   "outputs": [],
   "source": [
    "for (i <- 1 to 10) println(i * i)￼"
   ]
  },
  {
   "cell_type": "code",
   "execution_count": null,
   "metadata": {
    "collapsed": false
   },
   "outputs": [],
   "source": [
    "for (_ <- 1 to 10) println(\"hello world\")"
   ]
  },
  {
   "cell_type": "code",
   "execution_count": null,
   "metadata": {
    "collapsed": false
   },
   "outputs": [],
   "source": [
    "for (i <- 1 to 10) {\n",
    "    print (f\"the square of $i%2d\")\n",
    "    println(f\" is ${i*i}%3d\")\n",
    "}"
   ]
  },
  {
   "cell_type": "code",
   "execution_count": null,
   "metadata": {
    "collapsed": false
   },
   "outputs": [],
   "source": [
    "(1 to 10)"
   ]
  },
  {
   "cell_type": "code",
   "execution_count": null,
   "metadata": {
    "collapsed": false
   },
   "outputs": [],
   "source": [
    "(1 to 10).foreach { i =>\n",
    "    print (f\"the square of $i%2d\")\n",
    "    println(f\" is ${i*i}%3d\")\n",
    "}"
   ]
  },
  {
   "cell_type": "code",
   "execution_count": null,
   "metadata": {
    "collapsed": false
   },
   "outputs": [],
   "source": [
    "for {\n",
    "    i <- 1 to 5\n",
    "    j <- 1 to 5\n",
    "} {\n",
    "    println(s\"$i times $j is ${i*j}\")\n",
    "}"
   ]
  },
  {
   "cell_type": "code",
   "execution_count": null,
   "metadata": {
    "collapsed": false
   },
   "outputs": [],
   "source": [
    "(1 to 5).foreach { i =>\n",
    "  (1 to 5).foreach { j =>\n",
    "    println(s\"$i times $j is ${i*j}\")\n",
    "  }\n",
    "}"
   ]
  },
  {
   "cell_type": "code",
   "execution_count": null,
   "metadata": {
    "collapsed": false
   },
   "outputs": [],
   "source": [
    "val x1 = (1 to 5).foreach { i =>\n",
    "  (1 to 5).foreach { j =>\n",
    "    println(s\"$i times $j is ${i*j}\")\n",
    "  }\n",
    "}\n",
    "\n",
    "val x2 = for {\n",
    "    i <- 1 to 5\n",
    "    j <- 1 to 5\n",
    "} {\n",
    "    println(s\"$i times $j is ${i*j}\")\n",
    "}\n",
    "\n",
    "println(x1)\n",
    "println(x2)\n",
    "\n",
    "import scala.reflect.runtime.universe._\n",
    "def typeOf[T: TypeTag](t: T) = typeTag[T]\n",
    "\n",
    "typeOf(x1)\n",
    "typeOf(x2)"
   ]
  },
  {
   "cell_type": "code",
   "execution_count": null,
   "metadata": {
    "collapsed": true
   },
   "outputs": [],
   "source": []
  }
 ],
 "metadata": {
  "kernelspec": {
   "display_name": "Scala 2.11",
   "language": "scala211",
   "name": "scala211"
  },
  "language_info": {
   "codemirror_mode": "text/x-scala",
   "file_extension": ".scala",
   "mimetype": "text/x-scala",
   "name": "scala211",
   "pygments_lexer": "scala",
   "version": "2.11.8"
  }
 },
 "nbformat": 4,
 "nbformat_minor": 0
}
