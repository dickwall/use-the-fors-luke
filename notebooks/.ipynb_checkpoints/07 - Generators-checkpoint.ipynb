{
 "cells": [
  {
   "cell_type": "code",
   "execution_count": null,
   "metadata": {
    "collapsed": false
   },
   "outputs": [],
   "source": [
    "for (i <- 1 to 5) yield i * i"
   ]
  },
  {
   "cell_type": "code",
   "execution_count": null,
   "metadata": {
    "collapsed": false
   },
   "outputs": [],
   "source": [
    "val treasureMap = Map(\n",
    "  1 -> \"Go to island\",\n",
    "  2 -> \"Find big X on ground\",\n",
    "  3 -> \"Dig to find treasure\"\n",
    ")\n",
    "\n",
    "for ((stepNo, instruction) <- treasureMap) {\n",
    "    println(s\"Step $stepNo: $instruction\")\n",
    "}"
   ]
  },
  {
   "cell_type": "code",
   "execution_count": null,
   "metadata": {
    "collapsed": false
   },
   "outputs": [],
   "source": [
    "treasureMap.head match {\n",
    "    case (stepNo, instruction) => println(s\"Step $stepNo: $instruction\")\n",
    "}"
   ]
  },
  {
   "cell_type": "code",
   "execution_count": null,
   "metadata": {
    "collapsed": false
   },
   "outputs": [],
   "source": [
    "treasureMap.map {\n",
    "    case (stepNo, instruction) => println(s\"Step $stepNo: $instruction\")\n",
    "}"
   ]
  },
  {
   "cell_type": "code",
   "execution_count": null,
   "metadata": {
    "collapsed": false
   },
   "outputs": [],
   "source": [
    "val (stepNo, instruction) = treasureMap.head"
   ]
  },
  {
   "cell_type": "code",
   "execution_count": null,
   "metadata": {
    "collapsed": false
   },
   "outputs": [],
   "source": [
    "val foo: Any = \"foo\"\n",
    "val (stepNo, instruction) = foo"
   ]
  },
  {
   "cell_type": "code",
   "execution_count": null,
   "metadata": {
    "collapsed": false
   },
   "outputs": [],
   "source": [
    "case class Person(first: String, last: String, age: Int)\n",
    "\n",
    "val people = Seq(Person(\"Harry\", \"Potter\", 30), Person(\"Hermione\", \"Weasley\", 30), Person(\"Ginny\", \"Potter\", 28))\n",
    "\n",
    "for (Person(first, last, age) <- people) println(s\"Amazingly, $first $last is now $age years old\")\n",
    "\n",
    "println(\"Are you feeling old yet?\")"
   ]
  },
  {
   "cell_type": "code",
   "execution_count": null,
   "metadata": {
    "collapsed": false
   },
   "outputs": [],
   "source": [
    "object Even {\n",
    "  def unapply(x: Int): Boolean = x % 2 == 0\n",
    "}\n",
    "\n",
    "for {\n",
    "  x @ Even() <- 1 to 100\n",
    "} yield x\n"
   ]
  },
  {
   "cell_type": "code",
   "execution_count": null,
   "metadata": {
    "collapsed": true
   },
   "outputs": [],
   "source": []
  }
 ],
 "metadata": {
  "kernelspec": {
   "display_name": "Scala 2.11",
   "language": "scala211",
   "name": "scala211"
  },
  "language_info": {
   "codemirror_mode": "text/x-scala",
   "file_extension": ".scala",
   "mimetype": "text/x-scala",
   "name": "scala211",
   "pygments_lexer": "scala",
   "version": "2.11.8"
  }
 },
 "nbformat": 4,
 "nbformat_minor": 0
}
