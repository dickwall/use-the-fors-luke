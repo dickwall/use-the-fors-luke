{
 "cells": [
  {
   "cell_type": "code",
   "execution_count": null,
   "metadata": {
    "collapsed": false
   },
   "outputs": [],
   "source": [
    "classpath.add(\"com.jsuereth\" %% \"scala-arm\" % \"1.4\")"
   ]
  },
  {
   "cell_type": "code",
   "execution_count": null,
   "metadata": {
    "collapsed": false
   },
   "outputs": [],
   "source": [
    "import java.io._\n",
    "import resource._\n",
    "// Copy input into output.\n",
    "for {\n",
    "  input <- managed(new java.io.FileInputStream(\"test.txt\"))\n",
    "  output <- managed(new java.io.FileOutputStream(\"test2.txt\"))\n",
    "} {\n",
    "  val buffer = new Array[Byte](512)\n",
    "  def read(): Unit = input.read(buffer) match {\n",
    "    case -1 => ()\n",
    "    case  n =>\n",
    "      output.write(buffer,0,n)\n",
    "      read()\n",
    "  }\n",
    "  read()\n",
    "}"
   ]
  },
  {
   "cell_type": "code",
   "execution_count": null,
   "metadata": {
    "collapsed": true
   },
   "outputs": [],
   "source": []
  }
 ],
 "metadata": {
  "kernelspec": {
   "display_name": "Scala 2.11",
   "language": "scala211",
   "name": "scala211"
  },
  "language_info": {
   "codemirror_mode": "text/x-scala",
   "file_extension": ".scala",
   "mimetype": "text/x-scala",
   "name": "scala211",
   "pygments_lexer": "scala",
   "version": "2.11.8"
  }
 },
 "nbformat": 4,
 "nbformat_minor": 0
}
