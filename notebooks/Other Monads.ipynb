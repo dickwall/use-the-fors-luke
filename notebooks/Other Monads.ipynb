{
 "cells": [
  {
   "cell_type": "code",
   "execution_count": 1,
   "metadata": {
    "collapsed": false
   },
   "outputs": [
    {
     "data": {
      "text/plain": [
       "\u001b[36me1\u001b[0m: \u001b[32mEither\u001b[0m[\u001b[32mString\u001b[0m, \u001b[32mInt\u001b[0m] = \u001b[33mRight\u001b[0m(\u001b[32m6\u001b[0m)\n",
       "\u001b[36me2\u001b[0m: \u001b[32mEither\u001b[0m[\u001b[32mString\u001b[0m, \u001b[32mInt\u001b[0m] = \u001b[33mRight\u001b[0m(\u001b[32m7\u001b[0m)\n",
       "\u001b[36mres0_2\u001b[0m: \u001b[32mEither\u001b[0m[\u001b[32mString\u001b[0m, \u001b[32mInt\u001b[0m] = \u001b[33mRight\u001b[0m(\u001b[32m42\u001b[0m)"
      ]
     },
     "metadata": {},
     "output_type": "display_data"
    }
   ],
   "source": [
    "val e1: Either[String, Int] = Right(6)\n",
    "val e2: Either[String, Int] = Right(7)\n",
    "\n",
    "for {\n",
    "    x <- e1.right\n",
    "    y <- e2.right\n",
    "} yield x * y"
   ]
  },
  {
   "cell_type": "code",
   "execution_count": 2,
   "metadata": {
    "collapsed": false
   },
   "outputs": [
    {
     "data": {
      "text/plain": [
       "\u001b[36me1\u001b[0m: \u001b[32mEither\u001b[0m[\u001b[32mString\u001b[0m, \u001b[32mInt\u001b[0m] = \u001b[33mRight\u001b[0m(\u001b[32m6\u001b[0m)\n",
       "\u001b[36me2\u001b[0m: \u001b[32mEither\u001b[0m[\u001b[32mString\u001b[0m, \u001b[32mInt\u001b[0m] = \u001b[33mLeft\u001b[0m(\u001b[32m\"Bad Number\"\u001b[0m)\n",
       "\u001b[36mres1_2\u001b[0m: \u001b[32mEither\u001b[0m[\u001b[32mString\u001b[0m, \u001b[32mInt\u001b[0m] = \u001b[33mLeft\u001b[0m(\u001b[32m\"Bad Number\"\u001b[0m)"
      ]
     },
     "metadata": {},
     "output_type": "display_data"
    }
   ],
   "source": [
    "val e1: Either[String, Int] = Right(6)\n",
    "val e2: Either[String, Int] = Left(\"Bad Number\")\n",
    "\n",
    "for {\n",
    "    x <- e1.right\n",
    "    y <- e2.right\n",
    "} yield x * y"
   ]
  },
  {
   "cell_type": "code",
   "execution_count": 3,
   "metadata": {
    "collapsed": false
   },
   "outputs": [
    {
     "name": "stdout",
     "output_type": "stream",
     "text": [
      "1 new artifact(s)\n"
     ]
    },
    {
     "name": "stderr",
     "output_type": "stream",
     "text": [
      "1 new artifacts in macro\n",
      "1 new artifacts in runtime\n",
      "1 new artifacts in compile\n"
     ]
    },
    {
     "data": {
      "text/plain": []
     },
     "metadata": {},
     "output_type": "display_data"
    }
   ],
   "source": [
    "classpath.add(\"org.scalactic\" %% \"scalactic\" % \"3.0.0\")"
   ]
  },
  {
   "cell_type": "code",
   "execution_count": 4,
   "metadata": {
    "collapsed": false
   },
   "outputs": [
    {
     "data": {
      "text/plain": [
       "\u001b[32mimport \u001b[36morg.scalactic._\u001b[0m\n",
       "defined \u001b[32mfunction \u001b[36mparseName\u001b[0m\n",
       "defined \u001b[32mfunction \u001b[36mparseAge\u001b[0m"
      ]
     },
     "metadata": {},
     "output_type": "display_data"
    }
   ],
   "source": [
    "import org.scalactic._\n",
    "\n",
    "def parseName(input: String): String Or ErrorMessage = {\n",
    "  val trimmed = input.trim\n",
    "  if (!trimmed.isEmpty) Good(trimmed) else Bad(s\"\"\"\"${input}\" is not a valid name\"\"\")\n",
    "}\n",
    "\n",
    "def parseAge(input: String): Int Or ErrorMessage = {\n",
    "  try {\n",
    "    val age = input.trim.toInt\n",
    "    if (age >= 0) Good(age) else Bad(s\"\"\"\"${age}\" is not a valid age\"\"\")\n",
    "  }\n",
    "  catch {\n",
    "    case _: NumberFormatException => Bad(s\"\"\"${input}\" is not a valid integer\"\"\")\n",
    "  }\n",
    "}"
   ]
  },
  {
   "cell_type": "code",
   "execution_count": 5,
   "metadata": {
    "collapsed": false
   },
   "outputs": [
    {
     "data": {
      "text/plain": [
       "defined \u001b[32mclass \u001b[36mPerson\u001b[0m\n",
       "defined \u001b[32mfunction \u001b[36mparsePerson\u001b[0m"
      ]
     },
     "metadata": {},
     "output_type": "display_data"
    }
   ],
   "source": [
    "case class Person(name: String, age: Int)\n",
    "\n",
    "def parsePerson(inputName: String, inputAge: String): Person Or ErrorMessage =\n",
    "  for {\n",
    "    name <- parseName(inputName)\n",
    "    age <- parseAge(inputAge)\n",
    "  } yield Person(name, age)"
   ]
  },
  {
   "cell_type": "code",
   "execution_count": 6,
   "metadata": {
    "collapsed": false
   },
   "outputs": [
    {
     "data": {
      "text/plain": [
       "\u001b[36mres5_0\u001b[0m: \u001b[32mOr\u001b[0m[\u001b[32mPerson\u001b[0m, \u001b[32mErrorMessage\u001b[0m] = \u001b[33mGood\u001b[0m(\u001b[33mPerson\u001b[0m(\u001b[32m\"Sally\"\u001b[0m, \u001b[32m25\u001b[0m))\n",
       "\u001b[36mres5_1\u001b[0m: \u001b[32mOr\u001b[0m[\u001b[32mPerson\u001b[0m, \u001b[32mErrorMessage\u001b[0m] = \u001b[33mBad\u001b[0m(\n",
       "  \u001b[32m\"\"\"\n",
       "\"     \" is not a valid name\n",
       "  \"\"\"\u001b[0m\n",
       ")\n",
       "\u001b[36mres5_2\u001b[0m: \u001b[32mOr\u001b[0m[\u001b[32mPerson\u001b[0m, \u001b[32mErrorMessage\u001b[0m] = \u001b[33mBad\u001b[0m(\n",
       "  \u001b[32m\"\"\"\n",
       "twenty eight\" is not a valid integer\n",
       "  \"\"\"\u001b[0m\n",
       ")"
      ]
     },
     "metadata": {},
     "output_type": "display_data"
    }
   ],
   "source": [
    "parsePerson(\"Sally\", \"25\")\n",
    "parsePerson(\"     \", \"22\")\n",
    "parsePerson(\"Sally\", \"twenty eight\")"
   ]
  },
  {
   "cell_type": "code",
   "execution_count": 6,
   "metadata": {
    "collapsed": false
   },
   "outputs": [
    {
     "ename": "",
     "evalue": "",
     "output_type": "error",
     "traceback": [
      "\u001b[31mMain.scala:26: not found: value cats",
      " ; import cats.data._",
      "          ^\u001b[0m"
     ]
    }
   ],
   "source": [
    "classpath.add(\"org.typelevel\" %% \"cats\" % \"0.7.2\")\n",
    "\n",
    "import cats.data._\n"
   ]
  },
  {
   "cell_type": "code",
   "execution_count": null,
   "metadata": {
    "collapsed": false
   },
   "outputs": [],
   "source": [
    "type IndexState[A] = State[Int, A]\n",
    "// This returns a next `State` and the index to use for the current node.\n",
    "\n",
    "def nextIdx: State[Int, Int] =\n",
    "  State { currentIndex =>\n",
    "    (currentIndex + 1, currentIndex)\n",
    "  }\n",
    "\n",
    "val program: State[Int, (Int, Int, Int)] = \n",
    " for { \n",
    "   x <- nextIdx\n",
    "   y <- nextIdx\n",
    "   z <- nextIdx\n",
    " } yield (x,y,z)\n",
    "\n",
    "program.run(1).value"
   ]
  },
  {
   "cell_type": "code",
   "execution_count": null,
   "metadata": {
    "collapsed": true
   },
   "outputs": [],
   "source": []
  }
 ],
 "metadata": {
  "kernelspec": {
   "display_name": "Scala 2.11",
   "language": "scala211",
   "name": "scala211"
  },
  "language_info": {
   "codemirror_mode": "text/x-scala",
   "file_extension": ".scala",
   "mimetype": "text/x-scala",
   "name": "scala211",
   "pygments_lexer": "scala",
   "version": "2.11.8"
  }
 },
 "nbformat": 4,
 "nbformat_minor": 0
}
