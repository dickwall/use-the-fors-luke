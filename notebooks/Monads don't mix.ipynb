{
 "cells": [
  {
   "cell_type": "code",
   "execution_count": 1,
   "metadata": {
    "collapsed": false
   },
   "outputs": [
    {
     "data": {
      "text/plain": [
       "defined \u001b[32mclass \u001b[36mPassenger\u001b[0m\n",
       "defined \u001b[32mclass \u001b[36mCarriage\u001b[0m\n",
       "defined \u001b[32mclass \u001b[36mTrain\u001b[0m\n",
       "defined \u001b[32mclass \u001b[36mRoute\u001b[0m"
      ]
     },
     "metadata": {},
     "output_type": "display_data"
    }
   ],
   "source": [
    "case class Passenger(name: String, cellPhoneNumber: Option[String])\n",
    "case class Carriage(passengers: List[Passenger])\n",
    "case class Train(name: String, carriages: List[Carriage])\n",
    "case class Route(name: String, activeTrain: Option[Train])"
   ]
  },
  {
   "cell_type": "code",
   "execution_count": 2,
   "metadata": {
    "collapsed": false
   },
   "outputs": [
    {
     "data": {
      "text/plain": [
       "\u001b[36mroute1\u001b[0m: \u001b[32mRoute\u001b[0m = Route(Glen Gach to Glen Pach,Some(Train(The Flying Scotsman,List(Carriage(List(Passenger(Rob Roy,Some(121-212-1212)), Passenger(Connor McCleod,None))), Carriage(List(Passenger(Joey McDougall,Some(454-545-4545))))))))\n",
       "\u001b[36mroute2\u001b[0m: \u001b[32mRoute\u001b[0m = Route(Defuncto 1,None)\n",
       "\u001b[36mroute3\u001b[0m: \u001b[32mRoute\u001b[0m = Route(Busy Route of Luddites,Some(Train(The Tech Express,List(Carriage(List(Passenger(Ug,None), Passenger(Glug,None))), Carriage(List()), Carriage(List(Passenger(Smug,Some(323-232-3232))))))))\n",
       "\u001b[36mroutes\u001b[0m: \u001b[32mList\u001b[0m[\u001b[32mRoute\u001b[0m] = \u001b[33mList\u001b[0m(\n",
       "  Route(Glen Gach to Glen Pach,Some(Train(The Flying Scotsman,List(Carriage(List(Passenger(Rob Roy,Some(121-212-1212)), Passenger(Connor McCleod,None))), Carriage(List(Passenger(Joey McDougall,Some(454-545-4545)))))))),\n",
       "  Route(Defuncto 1,None),\n",
       "  Route(Busy Route of Luddites,Some(Train(The Tech Express,List(Carriage(List(Passenger(Ug,None), Passenger(Glug,None))), Carriage(List()), Carriage(List(Passenger(Smug,Some(323-232-3232))))))))\n",
       ")"
      ]
     },
     "metadata": {},
     "output_type": "display_data"
    }
   ],
   "source": [
    "val route1 = Route(\"Glen Gach to Glen Pach\",\n",
    "    Some(Train(\"The Flying Scotsman\",\n",
    "      List(Carriage(List(Passenger(\"Rob Roy\", Some(\"121-212-1212\")), Passenger(\"Connor McCleod\", None))),\n",
    "           Carriage(List(Passenger(\"Joey McDougall\", Some(\"454-545-4545\")))))\n",
    "    ))\n",
    ")\n",
    "\n",
    "val route2 = Route(\"Defuncto 1\", None)\n",
    "\n",
    "val route3 = Route(\"Busy Route of Luddites\",\n",
    "    Some(Train(\"The Tech Express\",\n",
    "      List(Carriage(List(Passenger(\"Ug\", None), Passenger(\"Glug\", None))),\n",
    "           Carriage(Nil),\n",
    "           Carriage(List(Passenger(\"Smug\", Some(\"323-232-3232\")))))\n",
    "    ))\n",
    ")\n",
    "\n",
    "val routes = List(route1, route2, route3)"
   ]
  },
  {
   "cell_type": "code",
   "execution_count": 2,
   "metadata": {
    "collapsed": false
   },
   "outputs": [
    {
     "ename": "",
     "evalue": "",
     "output_type": "error",
     "traceback": [
      "\u001b[31mMain.scala:28: type mismatch;",
      " found   : List[String]",
      " required: Option[?]",
      "    carriage <- active.carriages",
      "             ^\u001b[0m"
     ]
    }
   ],
   "source": [
    "for {\n",
    "    route <- routes\n",
    "    active <- route.activeTrain   // huh!\n",
    "    carriage <- active.carriages\n",
    "    passenger <- carriage.passengers\n",
    "    number <- passenger.cellPhoneNumber\n",
    "} yield number"
   ]
  },
  {
   "cell_type": "code",
   "execution_count": 2,
   "metadata": {
    "collapsed": false
   },
   "outputs": [
    {
     "ename": "",
     "evalue": "",
     "output_type": "error",
     "traceback": [
      "\u001b[31mMain.scala:27: type mismatch;",
      " found   : List[String]",
      " required: Option[?]",
      "        active.carriages.flatMap { carriage =>  // Seq  (flatMap A => Seq[B])  // are the problem...",
      "                                 ^\u001b[0m"
     ]
    }
   ],
   "source": [
    "routes.flatMap { route =>  // Seq  (flatMap A => Seq[B])\n",
    "    route.activeTrain.flatMap { active =>  // Option  (flatMap A => Option[B]) // these two\n",
    "        active.carriages.flatMap { carriage =>  // Seq  (flatMap A => Seq[B])  // are the problem...\n",
    "            carriage.passengers.flatMap { passenger =>  // Seq\n",
    "                passenger.cellPhoneNumber.map { number =>  // Option\n",
    "                    number\n",
    "                }\n",
    "            }\n",
    "        }\n",
    "    }\n",
    "}"
   ]
  },
  {
   "cell_type": "code",
   "execution_count": 3,
   "metadata": {
    "collapsed": false
   },
   "outputs": [
    {
     "data": {
      "text/plain": [
       "\u001b[36mres2\u001b[0m: \u001b[32mList\u001b[0m[\u001b[32mString\u001b[0m] = \u001b[33mList\u001b[0m(\u001b[32m\"121-212-1212\"\u001b[0m, \u001b[32m\"454-545-4545\"\u001b[0m, \u001b[32m\"323-232-3232\"\u001b[0m)"
      ]
     },
     "metadata": {},
     "output_type": "display_data"
    }
   ],
   "source": [
    "for {\n",
    "    route <- routes\n",
    "    active <- route.activeTrain.toSeq   // recommended whenever mixing options and seqs\n",
    "    carriage <- active.carriages\n",
    "    passenger <- carriage.passengers\n",
    "    number <- passenger.cellPhoneNumber.toSeq  // unnecessary here, but still clear\n",
    "} yield number"
   ]
  },
  {
   "cell_type": "code",
   "execution_count": 4,
   "metadata": {
    "collapsed": false
   },
   "outputs": [
    {
     "data": {
      "text/plain": [
       "\u001b[32mimport \u001b[36mscala.concurrent._\u001b[0m\n",
       "\u001b[32mimport \u001b[36mExecutionContext.Implicits.global\u001b[0m\n",
       "\u001b[32mimport \u001b[36mduration._\u001b[0m"
      ]
     },
     "metadata": {},
     "output_type": "display_data"
    }
   ],
   "source": [
    "import scala.concurrent._\n",
    "import ExecutionContext.Implicits.global\n",
    "import duration._\n"
   ]
  },
  {
   "cell_type": "code",
   "execution_count": 4,
   "metadata": {
    "collapsed": false
   },
   "outputs": [
    {
     "ename": "",
     "evalue": "",
     "output_type": "error",
     "traceback": [
      "\u001b[31mMain.scala:43: type mismatch;",
      " found   : scala.concurrent.Future[Int]",
      " required: scala.collection.GenTraversableOnce[?]",
      "    sq <- square(num)",
      "       ^\u001b[0m",
      "\u001b[31mMain.scala:42: type mismatch;",
      " found   : List[Nothing]",
      " required: scala.concurrent.Future[?]",
      "    num <- nums    // doh! - no mixie!",
      "        ^\u001b[0m"
     ]
    }
   ],
   "source": [
    "val fListONums = Future(List(1,2,3,4,5))\n",
    "def square(x: Int): Future[Int] = Future(x * x)\n",
    "\n",
    "for {\n",
    "    nums <- fListONums\n",
    "    num <- nums    // doh! - no mixie!\n",
    "    sq <- square(num)\n",
    "} yield sq"
   ]
  },
  {
   "cell_type": "code",
   "execution_count": 5,
   "metadata": {
    "collapsed": false
   },
   "outputs": [
    {
     "data": {
      "text/plain": [
       "\u001b[36mfListONums\u001b[0m: \u001b[32mFuture\u001b[0m[\u001b[32mList\u001b[0m[\u001b[32mInt\u001b[0m]] = Success(List(1, 2, 3, 4, 5))\n",
       "defined \u001b[32mfunction \u001b[36msquare\u001b[0m\n",
       "\u001b[36mres4_2\u001b[0m: \u001b[32mFuture\u001b[0m[\u001b[32mList\u001b[0m[\u001b[32mInt\u001b[0m]] = Success(List(1, 4, 9, 16, 25))"
      ]
     },
     "metadata": {},
     "output_type": "display_data"
    }
   ],
   "source": [
    "val fListONums = Future(List(1,2,3,4,5))\n",
    "def square(x: Int): Future[Int] = Future(x * x)\n",
    "\n",
    "for {\n",
    "    nums <- fListONums\n",
    "    squares <- Future.traverse(nums)(x => square(x))  // Seq[Int] & Int => Future[Int] => Future[Seq[Int]]\n",
    "} yield squares"
   ]
  },
  {
   "cell_type": "code",
   "execution_count": null,
   "metadata": {
    "collapsed": true
   },
   "outputs": [],
   "source": []
  }
 ],
 "metadata": {
  "kernelspec": {
   "display_name": "Scala 2.11",
   "language": "scala211",
   "name": "scala211"
  },
  "language_info": {
   "codemirror_mode": "text/x-scala",
   "file_extension": ".scala",
   "mimetype": "text/x-scala",
   "name": "scala211",
   "pygments_lexer": "scala",
   "version": "2.11.8"
  }
 },
 "nbformat": 4,
 "nbformat_minor": 0
}
