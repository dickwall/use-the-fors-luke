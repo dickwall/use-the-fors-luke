{
 "cells": [
  {
   "cell_type": "code",
   "execution_count": 0,
   "metadata": {
    "collapsed": false
   },
   "outputs": [
    {
     "ename": "",
     "evalue": "",
     "output_type": "error",
     "traceback": [
      "\u001b[31mMain.scala:29: not found: value emm",
      " ; import emm._ ; import emm.compat.cats._ ; import cats.std.list._ ; import cats.std.option._ ; import cats.std.future._ ; import scala.concurrent.{Await, Future} ; import scala.concurrent.duration._ ; implicit val ec = { () =>",
      "          ^\u001b[0m",
      "\u001b[31mMain.scala:29: not found: value emm",
      " ; import emm._ ; import emm.compat.cats._ ; import cats.std.list._ ; import cats.std.option._ ; import cats.std.future._ ; import scala.concurrent.{Await, Future} ; import scala.concurrent.duration._ ; implicit val ec = { () =>",
      "                         ^\u001b[0m",
      "\u001b[31mMain.scala:29: not found: value cats",
      " ; import emm._ ; import emm.compat.cats._ ; import cats.std.list._ ; import cats.std.option._ ; import cats.std.future._ ; import scala.concurrent.{Await, Future} ; import scala.concurrent.duration._ ; implicit val ec = { () =>",
      "                                                    ^\u001b[0m",
      "\u001b[31mMain.scala:29: not found: value cats",
      " ; import emm._ ; import emm.compat.cats._ ; import cats.std.list._ ; import cats.std.option._ ; import cats.std.future._ ; import scala.concurrent.{Await, Future} ; import scala.concurrent.duration._ ; implicit val ec = { () =>",
      "                                                                             ^\u001b[0m",
      "\u001b[31mMain.scala:29: not found: value cats",
      " ; import emm._ ; import emm.compat.cats._ ; import cats.std.list._ ; import cats.std.option._ ; import cats.std.future._ ; import scala.concurrent.{Await, Future} ; import scala.concurrent.duration._ ; implicit val ec = { () =>",
      "                                                                                                        ^\u001b[0m"
     ]
    }
   ],
   "source": [
    "classpath.addRepository(\"https://dl.bintray.com/djspiewak/maven\")\n",
    "\n",
    "classpath.add(\"com.codecommit\" %% \"emm-cats\" % \"0.2.1\")\n",
    "\n",
    "import emm._\n",
    "import emm.compat.cats._\n",
    "import cats.std.list._\n",
    "import cats.std.option._\n",
    "import cats.std.future._\n",
    "import scala.concurrent.{Await, Future}\n",
    "import scala.concurrent.duration._\n",
    "\n",
    "implicit val ec = scala.concurrent.ExecutionContext.global"
   ]
  },
  {
   "cell_type": "code",
   "execution_count": null,
   "metadata": {
    "collapsed": false
   },
   "outputs": [],
   "source": [
    "type E = Future |: Option |: Base\n",
    "\n",
    "val effect1 = Option(3).liftM[E]\n",
    "\n",
    "val effect2 = Option(2).liftM[E]\n",
    "//val effect2 = (None: Option[Int]).liftM[E]\n",
    "\n",
    "val effect3 = Future { Thread.sleep(5000); 7}.liftM[E]\n",
    "\n",
    "val effect4 = for {\n",
    "  x <- effect1\n",
    "  y <- effect2\n",
    "  z <- effect3\n",
    "} yield x * y * z\n",
    "\n",
    "effect4.run.value\n",
    "\n",
    "effect1\n",
    "effect2\n",
    "effect3\n",
    "\n",
    "Await.result(effect4.run, 10 seconds)\n"
   ]
  },
  {
   "cell_type": "code",
   "execution_count": null,
   "metadata": {
    "collapsed": false
   },
   "outputs": [],
   "source": []
  },
  {
   "cell_type": "code",
   "execution_count": null,
   "metadata": {
    "collapsed": true
   },
   "outputs": [],
   "source": []
  }
 ],
 "metadata": {
  "kernelspec": {
   "display_name": "Scala 2.11",
   "language": "scala211",
   "name": "scala211"
  },
  "language_info": {
   "codemirror_mode": "text/x-scala",
   "file_extension": ".scala",
   "mimetype": "text/x-scala",
   "name": "scala211",
   "pygments_lexer": "scala",
   "version": "2.11.8"
  }
 },
 "nbformat": 4,
 "nbformat_minor": 0
}
